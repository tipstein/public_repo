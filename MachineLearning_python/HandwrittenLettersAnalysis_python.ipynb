{
 "cells": [
  {
   "cell_type": "markdown",
   "metadata": {},
   "source": [
    "Adam Weinstein\n",
    "\n",
    "\n",
    "u0747284\n",
    "\n",
    "\n",
    "CS6017\n",
    "\n",
    "\n",
    "7.16.2022\n",
    "\n",
    "\n",
    "HW6\n",
    "\n",
    "\n",
    "We'll use the PyTorch library to train a neural net based classifier on a higher-res version of a handwritten digit dataset"
   ]
  },
  {
   "cell_type": "markdown",
   "metadata": {},
   "source": [
    "In the code below, four neural networks are trained, all with 50 epochs. The first two are Base_Net and Net. Base_Net has one convolution layer and Net has three. Net3 is trained on two fonts, Calibrri and Garamond. For all of the net methods, the code repeats twice --the data is loaded and retrained twice--to make sure that the neural nets are using fresh data. Following the two nets I:\n",
    "\n",
    "\n",
    "* Evaluate the network using cross validation (splitting data into training/testing). BaseNet trains at 90%.\n",
    "* Create and train a different network topology (add more convolution layers, experiment with normalization (batch normalization or dropout), explore other types/sizes of layer). With more convolution layers, Net trains at 50%. The more times each net is run, the better the performance.\n",
    "* Try to find a topology that works better than the one described above. The topology I found that works best is in the Net function, which trains with 1 convolution layer. However, when training with more convolution layers, as in Net(), the results vary with different font sets. The the nets seem to perform best on fonts that are less stylize, and do not include serifs. While more epochs produce better results, 50 takes about 30 seconds, which seems reasonable.\n",
    "* Test the accuracy of your network with character inputs from a DIFFERENT font set. How does it perform? I trained Net3() on Garamond and Calibrri, and then tested the trained net on Times. The accuracy went up to 58%, which was surprisingly good. \n",
    "* Train my best network on inputs from the data from at least 2 different fonts.  How does your accuracy compare to the 1-font case? What accuracy do you see when testing with inputs from a font you didn't train on? I trained the double net with Calibri and Garamond, and the results were 77% accuracy, which are suprisingly good.\n",
    "* Finally, I use CNN() to denoise the images and compare the results against the ASCII characters. The plotted results can be found in the very last frame."
   ]
  },
  {
   "cell_type": "markdown",
   "metadata": {},
   "source": [
    "Step 1 : Base Net"
   ]
  },
  {
   "cell_type": "code",
   "execution_count": 125,
   "metadata": {},
   "outputs": [],
   "source": [
    "import pandas as pd\n",
    "import matplotlib.pyplot as plt\n",
    "import numpy as np\n",
    "from sklearn import preprocessing\n",
    "import torchvision\n",
    "\n",
    "import matplotlib.pyplot as plt\n",
    "\n",
    "import torch\n",
    "import torchvision.transforms as transforms\n",
    "import torch.nn as nn\n",
    "import torch.nn.functional as F\n",
    "import torch.optim as optim\n",
    "\n"
   ]
  },
  {
   "cell_type": "code",
   "execution_count": 201,
   "metadata": {},
   "outputs": [],
   "source": [
    "\n",
    "from soupsieve import select\n",
    "\n",
    "\n",
    "font_reader = pd.read_csv(\"fonts/CALIBRI.csv\")\n",
    "\n",
    "df = pd.DataFrame( font_reader )\n",
    "df = df[df['m_label'] < 127]\n",
    "pd.set_option('display.max_columns', None)\n",
    "\n",
    "#use .values to transform df into array\n",
    "#Xs which is a #samples x 20 x 20 array containing the pixel values, \n",
    "# and Ys which is a #samples x 1 array containing the ascii vales for each character\n",
    "\n",
    "Xs_raw = df.iloc[:,12:].values\n",
    "Ys_raw = df.loc[:,'m_label'].values\n",
    "# print(\"max: \", Ys_raw.max())\n",
    "# print(\"min: \", Ys_raw.min())\n",
    "\n",
    "xs_norm = Xs_raw/256.0\n",
    "\n",
    "\n",
    "# print( \"norm: \", xs_norm[0,: 10] )\n",
    "# print (\"raw : \", Xs_raw[0,: 10] )\n",
    "\n"
   ]
  },
  {
   "cell_type": "markdown",
   "metadata": {},
   "source": [
    "Compile and train your network like we did in class. You'll probably have to use the np.reshape() function on your data to make PyTorch happy. I reshaped my X values like np.reshape(Xs, (-1, 1, 20, 20)) to get them in the right format."
   ]
  },
  {
   "cell_type": "code",
   "execution_count": 202,
   "metadata": {},
   "outputs": [
    {
     "data": {
      "text/plain": [
       "<matplotlib.image.AxesImage at 0x28ef9b220>"
      ]
     },
     "execution_count": 202,
     "metadata": {},
     "output_type": "execute_result"
    },
    {
     "data": {
      "image/png": "[encoded data removed]",
      "text/plain": [
       "<Figure size 432x288 with 1 Axes>"
      ]
     },
     "metadata": {
      "needs_background": "light"
     },
     "output_type": "display_data"
    }
   ],
   "source": [
    "Xs = np.reshape(xs_norm, (-1, 1, 20, 20))\n",
    "# print (len(Xs))\n",
    "# print ((xs_norm.shape))\n",
    "# print ( Xs.shape )\n",
    "\n",
    "keys, indices = np.unique(Ys_raw, return_index=True)\n",
    "    \n",
    "#real to dictionary, dictionary to real\n",
    "iToA= dict(zip(indices, keys))\n",
    "#index to Ascii\n",
    "aToI = dict(zip(keys, indices))\n",
    "#Ascii to index\n",
    "\n",
    "indx = 35\n",
    "ascii_val = iToA[ indx ]\n",
    "indx_val = aToI[ ascii_val ]\n",
    "# print(\"to ascii\", ascii_val, chr(ascii_val) )\n",
    "# print(\"to indx: \", indx_val )\n",
    "\n",
    "img = Xs[ indx ]\n",
    "img = img.reshape(20,20)\n",
    "plt.imshow( img, cmap=\"gray\", interpolation=\"none\" )\n",
    "\n",
    "# print(keys)\n",
    "# print(indices)\n"
   ]
  },
  {
   "cell_type": "code",
   "execution_count": 203,
   "metadata": {},
   "outputs": [],
   "source": [
    "Ys = np.zeros(len(Ys_raw), dtype=int)\n",
    "for i in range(len(Ys_raw)):\n",
    "   Ys[i] = aToI[Ys_raw[i]]\n",
    "\n",
    "\n",
    "# Ys = torch.from_numpy(Ys)\n",
    "\n",
    "# print(Ys)\n",
    "# print(type(Ys))\n",
    "# print(len(Ys))\n",
    "\n",
    "# print( \"max\", max(Ys) )\n",
    "# print( \"min\", min(Ys) )\n",
    "\n",
    "count = 0\n",
    "\n",
    "# for y in Ys:\n",
    "#    if y == 35:\n",
    "#       count += 1\n",
    "# print(\"count:\", count)"
   ]
  },
  {
   "cell_type": "code",
   "execution_count": 204,
   "metadata": {},
   "outputs": [
    {
     "data": {
      "text/plain": [
       "<matplotlib.image.AxesImage at 0x28efbb520>"
      ]
     },
     "execution_count": 204,
     "metadata": {},
     "output_type": "execute_result"
    },
    {
     "data": {
      "image/png": "[encoded data removed]",
      "text/plain": [
       "<Figure size 432x288 with 1 Axes>"
      ]
     },
     "metadata": {
      "needs_background": "light"
     },
     "output_type": "display_data"
    }
   ],
   "source": [
    "from sklearn.model_selection import train_test_split\n",
    "from torch.utils.data import Subset\n",
    "from torch.utils.data import TensorDataset, DataLoader\n",
    "\n",
    "train_data = []\n",
    "for i in range(len(Xs)):\n",
    "    train_data.append([Xs[i], Ys[i]])\n",
    "\n",
    "#my_train, my_test = train_test_split(train_data, test_size=.25)\n",
    "\n",
    "#xTrain, xTest, yTrain, yTest = train_test_split(Xs, Ys, test_size=.25)\n",
    "\n",
    "xTrain = Xs[:int(len(Xs)*3/4)]\n",
    "xTest = Xs[int(len(Xs)*3/4):]\n",
    "yTrain = Ys[:int(len(Xs)*3/4)]\n",
    "yTest = Ys[int(len(Xs)*3/4):]\n",
    "\n",
    "Xs_set = torch.from_numpy(xTrain).to(torch.float)\n",
    "Ys_set = torch.from_numpy(yTrain)\n",
    "\n",
    "YT_set = torch.from_numpy(xTest).to(torch.float)\n",
    "XT_set = torch.from_numpy(yTest)\n",
    "\n",
    "my_train = TensorDataset(Xs_set, Ys_set) # create your datset\n",
    "my_test = TensorDataset(Xs_set, Ys_set)\n",
    "\n",
    "b_my_train = TensorDataset(Xs_set, Ys_set)\n",
    "# print( b_my_train[0][0].shape) # create your datset\n",
    "b_my_test = TensorDataset(Xs_set, Ys_set)\n",
    "\n",
    "indx = 35\n",
    "\n",
    "# print(\"index is: \", Ys_set[indx])\n",
    "ascii_val = iToA[ indx ]\n",
    "indx_val = aToI[ ascii_val ]\n",
    "# print(\"to ascii\", ascii_val, chr(ascii_val) )\n",
    "# print(\"to indx: \", indx_val )\n",
    "\n",
    "img = Xs_set[aToI[ ascii_val ]]\n",
    "img = img.reshape(20,20)\n",
    "plt.imshow( img, cmap=\"gray\", interpolation=\"none\" )"
   ]
  },
  {
   "cell_type": "code",
   "execution_count": 205,
   "metadata": {},
   "outputs": [
    {
     "name": "stdout",
     "output_type": "stream",
     "text": [
      "ascii:  126\n",
      "~\n",
      "ascii:  125\n",
      "}\n",
      "ascii:  124\n",
      "|\n",
      "ascii:  123\n",
      "{\n",
      "ascii:  122\n",
      "z\n",
      "ascii:  121\n",
      "y\n",
      "ascii:  120\n",
      "x\n",
      "ascii:  119\n",
      "w\n",
      "ascii:  118\n",
      "v\n",
      "ascii:  117\n",
      "u\n",
      "ascii:  116\n",
      "t\n",
      "ascii:  115\n",
      "s\n",
      "ascii:  114\n",
      "r\n",
      "ascii:  113\n",
      "q\n",
      "ascii:  112\n",
      "p\n",
      "ascii:  111\n",
      "o\n",
      "ascii:  110\n",
      "n\n",
      "ascii:  109\n",
      "m\n",
      "ascii:  108\n",
      "l\n",
      "ascii:  107\n",
      "k\n",
      "ascii:  106\n",
      "j\n",
      "ascii:  105\n",
      "i\n",
      "ascii:  104\n",
      "h\n",
      "ascii:  103\n",
      "g\n",
      "ascii:  102\n",
      "f\n",
      "ascii:  101\n",
      "e\n",
      "ascii:  100\n",
      "d\n",
      "ascii:  99\n",
      "c\n",
      "ascii:  98\n",
      "b\n",
      "ascii:  97\n",
      "a\n",
      "ascii:  96\n",
      "`\n",
      "ascii:  95\n",
      "_\n",
      "ascii:  94\n",
      "^\n",
      "ascii:  93\n",
      "]\n",
      "ascii:  92\n",
      "\\\n",
      "ascii:  91\n",
      "[\n",
      "ascii:  90\n",
      "Z\n",
      "ascii:  89\n",
      "Y\n",
      "ascii:  88\n",
      "X\n",
      "ascii:  87\n",
      "W\n",
      "ascii:  86\n",
      "V\n",
      "ascii:  85\n",
      "U\n",
      "ascii:  84\n",
      "T\n",
      "ascii:  83\n",
      "S\n",
      "ascii:  82\n",
      "R\n",
      "ascii:  81\n",
      "Q\n",
      "ascii:  80\n",
      "P\n",
      "ascii:  79\n",
      "O\n",
      "ascii:  78\n",
      "N\n",
      "ascii:  77\n",
      "M\n"
     ]
    },
    {
     "data": {
      "image/png": "[encoded data removed]",
      "text/plain": [
       "<Figure size 720x1080 with 50 Axes>"
      ]
     },
     "metadata": {
      "needs_background": "light"
     },
     "output_type": "display_data"
    }
   ],
   "source": [
    "plt.figure( figsize= (10, 15) )\n",
    "\n",
    "for ii in np.arange( 50 ):\n",
    "   plt.subplot( 10, 5, ii+1 )\n",
    "   plt.imshow( Xs[ii, 0, :, :], cmap='Greys',interpolation='none' )\n",
    "   plt.title( chr(iToA[Ys[ii]]) )\n",
    "   print(\"ascii: \", iToA[Ys[ii]])\n",
    "   print(chr(iToA[Ys[ii]]))\n",
    "plt.tight_layout()\n",
    "plt.show()"
   ]
  },
  {
   "cell_type": "code",
   "execution_count": 206,
   "metadata": {},
   "outputs": [
    {
     "name": "stdout",
     "output_type": "stream",
     "text": [
      "to ascii 121 y\n",
      "to indx:  5\n",
      "<class 'numpy.ndarray'>\n"
     ]
    },
    {
     "data": {
      "text/plain": [
       "<matplotlib.image.AxesImage at 0x2aee61100>"
      ]
     },
     "execution_count": 206,
     "metadata": {},
     "output_type": "execute_result"
    },
    {
     "data": {
      "image/png": "[encoded data removed]",
      "text/plain": [
       "<Figure size 432x288 with 1 Axes>"
      ]
     },
     "metadata": {
      "needs_background": "light"
     },
     "output_type": "display_data"
    }
   ],
   "source": [
    "indx = 5\n",
    "ascii_val = iToA[ indx ]\n",
    "indx_val = aToI[ ascii_val ]\n",
    "print(\"to ascii\", ascii_val, chr(ascii_val) )\n",
    "print(\"to indx: \", indx_val )\n",
    "\n",
    "img = Xs[ indx ]\n",
    "print( type (Xs))\n",
    "img = img.reshape(20,20)\n",
    "plt.imshow( img, cmap=\"gray\", interpolation=\"none\" )"
   ]
  },
  {
   "cell_type": "code",
   "execution_count": 207,
   "metadata": {},
   "outputs": [],
   "source": [
    "class BaseNet(nn.Module):\n",
    "    def __init__(self):\n",
    "        super(BaseNet, self).__init__()\n",
    "        c1Out = 8 \n",
    "        # convolution layer 1 will output 6 \"images\": one for each filter it trains\n",
    "        \n",
    "        self.conv1 = nn.Conv2d( 1, c1Out, 3 ) # 1-D input, c1Out outputs, filter size 3x3 pixels\n",
    "        \n",
    "        # (28-2) x (28 -2) x c1Out outputs  # \"-2\" because 3x3 mask loses the 1st/last row/column\n",
    "        \n",
    "        self.pool = nn.MaxPool2d( 2, 2 ) # down sample 2x2 blocks to 1 value\n",
    "       \n",
    "        \n",
    "        #self.pooledOutputSize = c1Out * 2 * 2 # 16 outputs per image whose size has been reduced\n",
    "        #self.fc1 = nn.Linear( self.pooledOutputSize, 120 )\n",
    "        \n",
    "        #number of neurons in the layer\n",
    "        self.fc1 = nn.Linear( 648, 400 )\n",
    "        #dropping number of neurons\n",
    "        self.fc2 = nn.Linear( 400, 200 )    \n",
    "        #number of unique ys\n",
    "        self.fc3 = nn.Linear( 200, len(Ys) ) # length of outputs, shouldn't be hardcoded\n",
    "\n",
    "    ################################################################################\n",
    "    # Take an image (or images) and run it through all stages of the net:\n",
    "    #    \n",
    "    def forward( self, x ): # \"batch\" of images\n",
    "        # print (\"beginning \", x.shape)\n",
    "        # x is 4D tensor:  (batch size, width, height, #channels (1, grayscale image))\n",
    "        # after conv1:  (batch size, width adjusted, height adjusted, conv1 # outputs)\n",
    "        # after max pool: (batch size, width/2, height/2, conv1 # outputs)\n",
    "        # print (\"the type is: \", type(x))\n",
    "        # print(\"shape at 28\" , x.shape) # During creation / debugging, getting the shape of layers correct is challenging... so display them.\n",
    "        # x = F.relu(self.conv1(x))\n",
    "        # print (\"29 \", x.shape)\n",
    "        # #x = self.conv1(x)\n",
    "        # #print(\"shape at 31\", x.shape)\n",
    "        # #x = F.relu(x)\n",
    "        # #print(x.shape)\n",
    "        # #x = self.pool(x)\n",
    "        # print (\"36 \", x.shape)\n",
    "        # print(\"shape at 35\", x.shape)\n",
    "\n",
    "        # Split into 2 lines above\n",
    "        x = self.pool(F.relu(self.conv1(x)))  #apply convolution filter, then run it through relu activation function\n",
    "        #x = self.pool(F.relu(self.conv2(x))) #ditto\n",
    "        # print(\"42: \", x.shape) #uncomment to see the size of this layer.  It helped me figure out what pooledOutputSize shoudl be\n",
    "\n",
    "        # Flatten: turn the 5x5xc2Out array into a single 1xN array.  The dense layers expect a 1D thing\n",
    "       \n",
    "        #print(\"45 \", x.shape)\n",
    "        #x = x.view(x.shape[0], -1)  #equivalent ways of reshaping the data to be 1D\n",
    "        #x = x.view(batch_size( x.shape[0]) , -1)\n",
    "        \n",
    "        x = x.view(-1, self.num_flat_features(x))\n",
    "        # print(\"flattened image \", x.shape)\n",
    "\n",
    "        x = F.relu(self.fc1(x)) #apply dense layer 1\n",
    "        \n",
    "        # print (\"line 49: \", x.shape)\n",
    "        x = F.relu(self.fc2(x)) #and dense layer 2, using ReLU activation\n",
    "        # print (\"54: \", x.shape)\n",
    "        x = self.fc3(x) #final dense layer.  No activation function on this\n",
    "        # print (\"54 end \", x.shape)\n",
    "        return x\n",
    "    \n",
    "    #compute the output size after our convolution layers\n",
    "    def num_flat_features(self, x):\n",
    "        size = x.size()[1:]  # all dimensions except the batch dimension\n",
    "        num_features = 1\n",
    "        for s in size:\n",
    "            num_features *= s\n",
    "        return num_features\n",
    "\n",
    "\n",
    "b_net = BaseNet()"
   ]
  },
  {
   "cell_type": "code",
   "execution_count": 208,
   "metadata": {},
   "outputs": [],
   "source": [
    "def b_train( model, epochs ): # One epoch uses the entire training set (one batch at a time) - 60,000 images in this case\n",
    "    \n",
    "    criterion = nn.CrossEntropyLoss() # this is a way of measuring error (loss) for classification that takes the\n",
    "                                      # \"confidence\" of a prediction into account.  High confidence, correct predictions are low cost, \n",
    "                                      # high confidence, wrong predictions are high cost, medium confidence predictions have cost\n",
    "\n",
    "    # use the ADAM optimizer to find the best weights\n",
    "    optimizer = optim.Adam( model.parameters(), lr= 1e-4 ) \n",
    "    \n",
    "    #this loads data and gets it in the right format for us\n",
    "    trainloader = torch.utils.data.DataLoader( \n",
    "        b_my_train, \n",
    "        batch_size=8,\n",
    "        shuffle=False, \n",
    "        num_workers=0,\n",
    "        collate_fn=None,\n",
    "        pin_memory=False )\n",
    "\n",
    "    #print( \"my data is: \", my_train)\n",
    "\n",
    "    # print(\"here:\", max(my_train.tensors[1]))\n",
    "    # print(\"here:\", min(my_train.tensors[1]))\n",
    "\n",
    "    for epoch in range( epochs ): # loop over the dataset multiple times\n",
    "\n",
    "        running_loss = 0.0\n",
    "        for i, data in enumerate( trainloader, 0 ):\n",
    "            # get the inputs; data is a list of [inputs, labels]\n",
    "\n",
    "            inputs, labels = data\n",
    "            # zero the parameter gradients\n",
    "            optimizer.zero_grad()\n",
    "\n",
    "            # forward + backward + optimize\n",
    "            \n",
    "            #print(\"shape:\", inputs.shape)\n",
    "            outputs = model(inputs) #predict the output with some training data\n",
    "            # print(\"These are my labels: \" , labels)\n",
    "            # print( \"length of outputs: \", len(outputs))\n",
    "            # print(\"outputs.shape 39 \" , outputs.shape)\n",
    "            loss = criterion(outputs, labels) #see how well we did\n",
    "            # print (\"loss \")\n",
    "            loss.backward() #see how to change the weights to do better\n",
    "            optimizer.step() #and actually change the weights\n",
    "\n",
    "            # print statistics\n",
    "            running_loss += loss.item()\n",
    "            if i % 20 == 19:    # print every 2000 mini-batches\n",
    "                # print('[%d, %5d] loss: %.3f' %\n",
    "                      #(epoch + 1, i + 1, running_loss / 20))\n",
    "                running_loss = 0.0\n",
    "\n",
    "    print('Finished Training')\n",
    "\n",
    "def b_evaluate( model ):  \n",
    "    #load some test data\n",
    "    testloader = torch.utils.data.DataLoader( \n",
    "        b_my_test, \n",
    "        batch_size=8,\n",
    "        shuffle=False,\n",
    "        num_workers=0,\n",
    "        collate_fn=None,\n",
    "        pin_memory=False )\n",
    "    \n",
    "    correct = 0\n",
    "    total = 0\n",
    "\n",
    "    with torch.no_grad(): # <- Since we are not training, the model does not need to calculate gradients\n",
    "        for data in testloader:\n",
    "            images, labels = data\n",
    "            outputs = model( images )\n",
    "            _, predicted = torch.max(outputs.data, 1)\n",
    "            #print(\"predict:\", predicted)\n",
    "            total += labels.size(0)\n",
    "            correct += (predicted == labels).sum().item()\n",
    "\n",
    "    # Just do a coarse evaluation... how many did we predict correcly?\n",
    "    print( 'Accuracy of the network on the 10000 test images: %d %%' % ( 100 * correct / total) )\n",
    "    "
   ]
  },
  {
   "cell_type": "code",
   "execution_count": 134,
   "metadata": {},
   "outputs": [
    {
     "name": "stdout",
     "output_type": "stream",
     "text": [
      "Training...\n",
      "Finished Training\n",
      "Evaluating...\n",
      "Accuracy of the network on the 10000 test images: 91 %\n"
     ]
    }
   ],
   "source": [
    "print( \"Training...\" )\n",
    "b_train( b_net, 50 )\n",
    "\n",
    "print( \"Evaluating...\" )\n",
    "b_evaluate( b_net )"
   ]
  },
  {
   "cell_type": "code",
   "execution_count": 135,
   "metadata": {},
   "outputs": [
    {
     "data": {
      "image/png": "[encoded data removed]",
      "text/plain": [
       "<Figure size 1440x1800 with 8 Axes>"
      ]
     },
     "metadata": {
      "needs_background": "light"
     },
     "output_type": "display_data"
    }
   ],
   "source": [
    "def drawComparisonsCNN(model):\n",
    "   test_loader = torch.utils.data.DataLoader(my_test, batch_size=1, shuffle=False, num_workers=0)\n",
    "   plt.figure(figsize=(20, 25))\n",
    "   with torch.no_grad():\n",
    "      for i, batch in enumerate(test_loader):\n",
    "         if i >= 8: break\n",
    "         #images = batch[0]\n",
    "         images, labels = batch\n",
    "         #print(images.shape)\n",
    "     \n",
    "         label = model(images)\n",
    "         \n",
    "         for j in range(len(images)):\n",
    "            _, index = ( torch.max(label.data, 1) )\n",
    "            # print (index)\n",
    "            # print( images[0][j].shape)\n",
    "            ax = plt.subplot(16, 8, i*16 + j + 1)\n",
    "            plt.imshow(images[0][j].reshape((20,20)), cmap=\"Greys\", interpolation=None)\n",
    "            # print (len(label[0]))\n",
    "            # print ((label))\n",
    "            # print (int(label))\n",
    "            plt.title( chr(iToA[int(index)]) )\n",
    "            ax.get_xaxis().set_visible(False)\n",
    "            ax.get_yaxis().set_visible(False)\n",
    "\n",
    "drawComparisonsCNN(b_net)"
   ]
  },
  {
   "cell_type": "markdown",
   "metadata": {},
   "source": [
    "Step 2: net with multiple convolution layers"
   ]
  },
  {
   "cell_type": "code",
   "execution_count": 209,
   "metadata": {},
   "outputs": [
    {
     "name": "stdout",
     "output_type": "stream",
     "text": [
      "max:  126\n",
      "min:  33\n",
      "norm:  [0.00392157 0.00392157 0.00392157 0.55294118 1.         1.\n",
      " 1.         0.58823529 0.00392157 0.00392157]\n",
      "raw :  [  1   1   1 141 255 255 255 150   1   1]\n"
     ]
    }
   ],
   "source": [
    "\n",
    "#read in data from file\n",
    "#props_one = pd.read_csv( \"realEstate1.csv\" )\n",
    "from soupsieve import select\n",
    "\n",
    "\n",
    "agency_reader = pd.read_csv(\"fonts/CALIBRI.csv\")\n",
    "\n",
    "df = pd.DataFrame( agency_reader )\n",
    "df = df[df['m_label'] < 127]\n",
    "pd.set_option('display.max_columns', None)\n",
    "\n",
    "#use .values to transform df into array\n",
    "#Xs which is a #samples x 20 x 20 array containing the pixel values, \n",
    "# and Ys which is a #samples x 1 array containing the ascii vales for each character\n",
    "\n",
    "Xs_raw = df.iloc[:,12:].values\n",
    "Ys_raw = df.loc[:,'m_label'].values\n",
    "print(\"max: \", Ys_raw.max())\n",
    "print(\"min: \", Ys_raw.min())\n",
    "\n",
    "#xs_norm = preprocessing.normalize(Xs_raw)\n",
    "xs_norm = Xs_raw/255.0\n",
    "\n",
    "\n",
    "print( \"norm: \", xs_norm[0,: 10] )\n",
    "print (\"raw : \", Xs_raw[0,: 10] )\n",
    "\n"
   ]
  },
  {
   "cell_type": "markdown",
   "metadata": {},
   "source": [
    "Compile and train your network like we did in class. You'll probably have to use the np.reshape() function on your data to make PyTorch happy. I reshaped my X values like np.reshape(Xs, (-1, 1, 20, 20)) to get them in the right format."
   ]
  },
  {
   "cell_type": "code",
   "execution_count": 210,
   "metadata": {},
   "outputs": [
    {
     "data": {
      "text/plain": [
       "<matplotlib.image.AxesImage at 0x2aeeda280>"
      ]
     },
     "execution_count": 210,
     "metadata": {},
     "output_type": "execute_result"
    },
    {
     "data": {
      "image/png": "[encoded data removed]",
      "text/plain": [
       "<Figure size 432x288 with 1 Axes>"
      ]
     },
     "metadata": {
      "needs_background": "light"
     },
     "output_type": "display_data"
    }
   ],
   "source": [
    "Xs = np.reshape(xs_norm, (-1, 1, 20, 20))\n",
    "\n",
    "    \n",
    "keys, indices = np.unique(Ys_raw, return_index=True)\n",
    "\n",
    "    \n",
    "#real to dictionary, dictionary to real\n",
    "iToA= dict(zip(indices, keys))\n",
    "#index to Ascii\n",
    "aToI = dict(zip(keys, indices))\n",
    "#Ascii to index\n",
    "\n",
    "# XTrain_tensor = torch.from_numpy(XTrain).to(torch.float)\n",
    "# XTest_tensor = torch.from_numpy(XTest).to(torch.float)\n",
    "\n",
    "\n",
    "indx = 35\n",
    "ascii_val = iToA[ indx ]\n",
    "indx_val = aToI[ ascii_val ]\n",
    "# print(\"to ascii\", ascii_val, chr(ascii_val) )\n",
    "# print(\"to indx: \", indx_val )\n",
    "\n",
    "img = Xs[ indx ]\n",
    "img = img.reshape(20,20)\n",
    "plt.imshow( img, cmap=\"gray\", interpolation=\"none\" )\n",
    "\n",
    "# print(keys)\n",
    "# print(indices)\n"
   ]
  },
  {
   "cell_type": "code",
   "execution_count": 211,
   "metadata": {},
   "outputs": [],
   "source": [
    "Ys = np.zeros(len(Ys_raw), dtype=int)\n",
    "for i in range(len(Ys_raw)):\n",
    "   Ys[i] = aToI[Ys_raw[i]]\n",
    "\n",
    "\n",
    "# Ys = torch.from_numpy(Ys)\n",
    "\n",
    "# print(Ys)\n",
    "# print(type(Ys))\n",
    "# print(len(Ys))\n",
    "\n",
    "# print( \"max\", max(Ys) )\n",
    "# print( \"min\", min(Ys) )\n",
    "\n",
    "# count = 0\n",
    "\n",
    "# for y in Ys:\n",
    "#    if y == 35:\n",
    "#       count += 1\n",
    "# print(\"count:\", count)"
   ]
  },
  {
   "cell_type": "code",
   "execution_count": 212,
   "metadata": {},
   "outputs": [
    {
     "name": "stdout",
     "output_type": "stream",
     "text": [
      "to ascii 91 [\n",
      "to indx:  35\n"
     ]
    },
    {
     "data": {
      "text/plain": [
       "<matplotlib.image.AxesImage at 0x2aef27400>"
      ]
     },
     "execution_count": 212,
     "metadata": {},
     "output_type": "execute_result"
    },
    {
     "data": {
      "image/png": "[encoded data removed]",
      "text/plain": [
       "<Figure size 432x288 with 1 Axes>"
      ]
     },
     "metadata": {
      "needs_background": "light"
     },
     "output_type": "display_data"
    }
   ],
   "source": [
    "from sklearn.model_selection import train_test_split\n",
    "from torch.utils.data import Subset\n",
    "from torch.utils.data import TensorDataset, DataLoader\n",
    "\n",
    "train_data = []\n",
    "for i in range(len(Xs)):\n",
    "    train_data.append([Xs[i], Ys[i]])\n",
    "\n",
    "#my_train, my_test = train_test_split(train_data, test_size=.25)\n",
    "\n",
    "#xTrain, xTest, yTrain, yTest = train_test_split(Xs, Ys, test_size=.25)\n",
    "\n",
    "xTrain = Xs[:int(len(Xs)*3/4)]\n",
    "xTest = Xs[int(len(Xs)*3/4):]\n",
    "yTrain = Ys[:int(len(Xs)*3/4)]\n",
    "yTest = Ys[int(len(Xs)*3/4):]\n",
    "\n",
    "Xs_set = torch.from_numpy(xTrain).to(torch.float)\n",
    "Ys_set = torch.from_numpy(yTrain)\n",
    "\n",
    "XT_set = torch.from_numpy(xTest).to(torch.float)\n",
    "YT_set = torch.from_numpy(yTest)\n",
    "\n",
    "\n",
    "\n",
    "#this was working\n",
    "# Xs_set = torch.from_numpy(Xs).to(torch.float)\n",
    "# Ys_set = torch.from_numpy(Ys)\n",
    "\n",
    "# YT_set = torch.from_numpy(Xs).to(torch.float)\n",
    "# XT_set = torch.from_numpy(Ys)\n",
    "\n",
    "\n",
    "\n",
    "# trainer = TensorDataset(Xs_set,Ys_set)\n",
    "# tester = TensorDataset(Xs_set,Ys_set)\n",
    "\n",
    "\n",
    "my_train = TensorDataset(Xs_set, Ys_set) # create your datset\n",
    "my_test = TensorDataset(XT_set, YT_set)\n",
    "\n",
    "b_my_train = TensorDataset(Xs_set, Ys_set) # create your datset\n",
    "b_my_test = TensorDataset(XT_set, YT_set)\n",
    "\n",
    "indx = 35\n",
    "\n",
    "# print(\"index is: \", Ys_set[indx])\n",
    "ascii_val = iToA[ indx ]\n",
    "indx_val = aToI[ ascii_val ]\n",
    "print(\"to ascii\", ascii_val, chr(ascii_val) )\n",
    "print(\"to indx: \", indx_val )\n",
    "\n",
    "img = Xs_set[aToI[ ascii_val ]]\n",
    "img = img.reshape(20,20)\n",
    "plt.imshow( img, cmap=\"gray\", interpolation=\"none\" )\n",
    "\n",
    "\n",
    "\n"
   ]
  },
  {
   "cell_type": "code",
   "execution_count": 213,
   "metadata": {},
   "outputs": [],
   "source": [
    "class Net(nn.Module):\n",
    "    def __init__(self):\n",
    "        super(Net, self).__init__()\n",
    "        c1Out = 6 # convolution layer 1 will output 6 \"images\": one for each filter it trains\n",
    "        c2Out = 16 # similarly for the 2nd convolution layer\n",
    "        self.conv1 = nn.Conv2d( 1, c1Out, 3 ) # 1-D input, c1Out outputs, filter size 3x3 pixels\n",
    "        \n",
    "        # (28-2) x (28 -2) x c1Out outputs  # \"-2\" because 3x3 mask loses the 1st/last row/column\n",
    "        \n",
    "        self.pool = nn.MaxPool2d( 2, 2 ) # down sample 2x2 blocks to 1 value\n",
    "        \n",
    "        # 13*13*c1Out\n",
    "        \n",
    "        self.conv2 = nn.Conv2d( c1Out, c2Out, 3 ) # Inputs comes from conv1, specify our #outputs, use 3x3 blocks again\n",
    "        \n",
    "        # (13-2)*(13 -2)*c2Out\n",
    "        # pool again\n",
    "        # (11/2)*(11/2)*c2Out = 5x5 x c2Out\n",
    "        \n",
    "        #this is tricky.  The convolutions each shave 1 pixel off around the border, and then the\n",
    "        #max pools reduce the number of pixels by 4\n",
    "        self.pooledOutputSize = c2Out * 5 * 5 # 16 outputs per image whose size has been reduced\n",
    "        \n",
    "        # ******* Ax + b ([weight x input] + bias) since it’s just entirely linear, with no activation function. *****\n",
    "        #All we're doing is just defining values for some layers, we're calling them fc1, fc2...etc, but you could call \n",
    "        # them whatever you wanted. The fc just stands for fully connected. Fully connected refers to the point that \n",
    "        # every neuron in this layer is going to be fully connected to attaching neurons. Nothing fancy going on here! \n",
    "        # Recall, each \"connection\" comes with weights and possibly biases, so each connection is a \"parameter\" for \n",
    "        # the neural network to play with.\n",
    "        #In our case, we have 4 layers. Each of our nn.Linear layers expects the first parameter to be the input size, \n",
    "        # and the 2nd parameter is the output size.\n",
    "        #So, our first layer takes in 28x28, because our images are 28x28 images of hand-drawn digits.\n",
    "        # A basic neural network is going to expect to have a flattened array, so not a 28x28, but instead a 1x784.\n",
    "        #self.fc1 = nn.Linear( self.pooledOutputSize, 120 )\n",
    "        \n",
    "        #144 is the pooling layer number of nodes\n",
    "        self.fc1 = nn.Linear( 144, 120 )\n",
    "        self.fc2 = nn.Linear( 120, 84 )\n",
    "        self.fc3 = nn.Linear( 84, len(Ys) ) # length of outputs, shouldn't be hardcoded\n",
    "\n",
    "    ################################################################################\n",
    "    # Take an image (or images) and run it through all stages of the net:\n",
    "    #    \n",
    "    def forward( self, x ): # \"batch\" of images\n",
    "        # x is 4D tensor:  (batch size, width, height, #channels (1, grayscale image))\n",
    "        # after conv1:  (batch size, width adjusted, height adjusted, conv1 # outputs)\n",
    "        # after max pool: (batch size, width/2, height/2, conv1 # outputs)\n",
    "        # print (\"the type is: \", type(x))\n",
    "        # print(x.shape) # During creation / debugging, getting the shape of layers correct is challenging... so display them.\n",
    "        #x = F.relu(self.conv1(x)\n",
    "        x = self.conv1(x)\n",
    "        #print(x.shape)\n",
    "        x = F.relu(x)\n",
    "        #print(x.shape)\n",
    "        x = self.pool(x)\n",
    "       # print(x.shape)\n",
    "\n",
    "        # Split into 2 lines above\n",
    "        #x = self.pool(F.relu(self.conv1(x)))  #apply convolution filter, then run it through relu activation function\n",
    "        x = self.pool(F.relu(self.conv2(x))) #ditto\n",
    "        #print(x.shape) #uncomment to see the size of this layer.  It helped me figure out what pooledOutputSize shoudl be\n",
    "\n",
    "        # Flatten: turn the 5x5xc2Out array into a single 1xN array.  The dense layers expect a 1D thing\n",
    "        x = x.view(-1, self.num_flat_features(x))\n",
    "        #print(x.shape)\n",
    "        # x = x.view(x.shape[0], -1)  #equivalent ways of reshaping the data to be 1D\n",
    "        # x = x.view(batch_size( x.shape[0]) , -1)\n",
    "        x = F.relu(self.fc1(x)) #apply dense layer 1\n",
    "        x = F.relu(self.fc2(x)) #and dense layer 2, using ReLU activation\n",
    "        x = self.fc3(x) #final dense layer.  No activation function on this\n",
    "        # print (\"x shape: \",  x.shape)\n",
    "        return x\n",
    "    \n",
    "    #compute the output size after our convolution layers\n",
    "    def num_flat_features(self, x):\n",
    "        size = x.size()[1:]  # all dimensions except the batch dimension\n",
    "        num_features = 1\n",
    "        for s in size:\n",
    "            num_features *= s\n",
    "        return num_features\n",
    "\n",
    "\n",
    "net = Net()"
   ]
  },
  {
   "cell_type": "code",
   "execution_count": 214,
   "metadata": {},
   "outputs": [],
   "source": [
    "def train( model, epochs ): # One epoch uses the entire training set (one batch at a time) - 60,000 images in this case\n",
    "    \n",
    "    criterion = nn.CrossEntropyLoss() # this is a way of measuring error (loss) for classification that takes the\n",
    "                                      # \"confidence\" of a prediction into account.  High confidence, correct predictions are low cost, \n",
    "                                      # high confidence, wrong predictions are high cost, medium confidence predictions have cost\n",
    "\n",
    "    # use the ADAM optimizer to find the best weights\n",
    "    optimizer = optim.Adam( model.parameters(), lr= 1e-4 ) \n",
    "    \n",
    "    #this loads data and gets it in the right format for us\n",
    "    trainloader = torch.utils.data.DataLoader( \n",
    "        my_train, \n",
    "        batch_size=8,\n",
    "        shuffle=False, \n",
    "        num_workers=0,\n",
    "        collate_fn=None,\n",
    "        pin_memory=False )\n",
    "\n",
    "    #print( \"my data is: \", my_train)\n",
    "\n",
    "    # print(\"here:\", max(my_train.tensors[1]))\n",
    "    # print(\"here:\", min(my_train.tensors[1]))\n",
    "\n",
    "    for epoch in range( epochs ): # loop over the dataset multiple times\n",
    "\n",
    "        running_loss = 0.0\n",
    "        for i, data in enumerate( trainloader, 0 ):\n",
    "            # get the inputs; data is a list of [inputs, labels]\n",
    "\n",
    "            inputs, labels = data\n",
    "            # zero the parameter gradients\n",
    "            optimizer.zero_grad()\n",
    "\n",
    "            # forward + backward + optimize\n",
    "            \n",
    "            #print(\"shape:\", inputs.shape)\n",
    "            outputs = model(inputs) #predict the output with some training data\n",
    "            # print(\"These are my labels: \" , labels)\n",
    "            # print(outputs.shape)\n",
    "            loss = criterion(outputs, labels) #see how well we did\n",
    "\n",
    "            loss.backward() #see how to change the weights to do better\n",
    "            optimizer.step() #and actually change the weights\n",
    "\n",
    "            # print statistics\n",
    "            running_loss += loss.item()\n",
    "            if i % 20 == 19:    # print every 2000 mini-batches\n",
    "                # print('[%d, %5d] loss: %.3f' %\n",
    "                      #(epoch + 1, i + 1, running_loss / 20))\n",
    "                running_loss = 0.0\n",
    "\n",
    "    print('Finished Training')\n",
    "\n",
    "def evaluate( model ):  \n",
    "    #load some test data\n",
    "    testloader = torch.utils.data.DataLoader( \n",
    "        my_test, \n",
    "        batch_size=8,\n",
    "        shuffle=False,\n",
    "        num_workers=0,\n",
    "        collate_fn=None,\n",
    "        pin_memory=False )\n",
    "    \n",
    "    correct = 0\n",
    "    total = 0\n",
    "\n",
    "    with torch.no_grad(): # <- Since we are not training, the model does not need to calculate gradients\n",
    "        for data in testloader:\n",
    "            images, labels = data\n",
    "            outputs = model( images )\n",
    "            _, predicted = torch.max(outputs.data, 1)\n",
    "            #print(\"predict:\", predicted)\n",
    "            total += labels.size(0)\n",
    "            correct += (predicted == labels).sum().item()\n",
    "\n",
    "    # Just do a coarse evaluation... how many did we predict correcly?\n",
    "    print( 'Accuracy of the network on the 10000 test images: %d %%' % ( 100 * correct / total) )\n",
    "    "
   ]
  },
  {
   "cell_type": "code",
   "execution_count": 215,
   "metadata": {},
   "outputs": [
    {
     "name": "stdout",
     "output_type": "stream",
     "text": [
      "Training...\n",
      "Finished Training\n",
      "Evaluating...\n",
      "Accuracy of the network on the 10000 test images: 42 %\n"
     ]
    }
   ],
   "source": [
    "print( \"Training...\" )\n",
    "train( net, 50 )\n",
    "\n",
    "print( \"Evaluating...\" )\n",
    "evaluate( net )"
   ]
  },
  {
   "cell_type": "code",
   "execution_count": 143,
   "metadata": {},
   "outputs": [],
   "source": [
    "test_loader = torch.utils.data.DataLoader(my_test, batch_size=1,\n",
    "        shuffle=False,\n",
    "        num_workers=0,\n",
    "        collate_fn=None,\n",
    "        pin_memory=False )\n",
    "for i, batch in enumerate(test_loader):\n",
    "    if i >= 8: break\n",
    "    images = batch[0]\n",
    "    \n",
    "with torch.no_grad(): # <- Since we are not training, the model does not need to calculate gradients\n",
    "    for data in test_loader:\n",
    "        images, labels = data\n",
    "        outputs = net( images )\n",
    "        _, predicted = torch.max(outputs.data, 1)\n",
    "        # print(\"predict:\", predicted)\n",
    "    #print(images.shape)\n",
    "    # with torch.no_grad():\n",
    "    #     label = model(images)\n",
    "    #     print ( label )\n",
    "\n",
    "# print ( len(my_train))\n",
    "# print (my_train[751][1])\n",
    "# for i in range(20):\n",
    "#      print(my_train[i*2][1])\n",
    "    "
   ]
  },
  {
   "cell_type": "code",
   "execution_count": 144,
   "metadata": {},
   "outputs": [
    {
     "data": {
      "image/png": "[encoded data removed]",
      "text/plain": [
       "<Figure size 1440x1800 with 8 Axes>"
      ]
     },
     "metadata": {
      "needs_background": "light"
     },
     "output_type": "display_data"
    }
   ],
   "source": [
    "def drawComparisonsCNN(model):\n",
    "   test_loader = torch.utils.data.DataLoader(my_test, batch_size=1,\n",
    "        shuffle=False,\n",
    "        num_workers=0,\n",
    "        collate_fn=None,\n",
    "        pin_memory=False )\n",
    "   plt.figure(figsize=(20, 25))\n",
    "   with torch.no_grad():\n",
    "      for i, batch in enumerate(test_loader):\n",
    "         if i >= 8: break\n",
    "         images = batch[0]\n",
    "         # images, labels = batch\n",
    "         #print(images.shape)\n",
    "     \n",
    "         label = model(images)\n",
    "         \n",
    "         for j in range(len(images)):\n",
    "            _, index = ( torch.max(label.data, 1) )\n",
    "            # print (index)\n",
    "            # print( images[j].shape)\n",
    "            ax = plt.subplot(16, 8, i*16 + j + 1)\n",
    "            plt.imshow(images[j].reshape((20,20)), cmap=\"Greys\", interpolation=None)\n",
    "            # print (len(label[0]))\n",
    "            # print ((label))\n",
    "            # print (int(label))\n",
    "            plt.title( chr(iToA[int(index)]) )\n",
    "            ax.get_xaxis().set_visible(False)\n",
    "            ax.get_yaxis().set_visible(False)\n",
    "\n",
    "drawComparisonsCNN(net)"
   ]
  },
  {
   "cell_type": "markdown",
   "metadata": {},
   "source": [
    "Step 3: New data is used to train the net"
   ]
  },
  {
   "cell_type": "code",
   "execution_count": 145,
   "metadata": {},
   "outputs": [
    {
     "name": "stdout",
     "output_type": "stream",
     "text": [
      "max:  126\n",
      "min:  33\n",
      "norm:  [0.00390625 0.00390625 0.00390625 0.00390625 0.00390625 0.99609375\n",
      " 0.99609375 0.99609375 0.99609375 0.99609375]\n",
      "raw :  [  1   1   1   1   1 255 255 255 255 255]\n"
     ]
    }
   ],
   "source": [
    "\n",
    "#read in data from file\n",
    "from soupsieve import select\n",
    "\n",
    "\n",
    "agency_reader = pd.read_csv(\"fonts/TIMES.csv\")\n",
    "\n",
    "df = pd.DataFrame( agency_reader )\n",
    "df = df[df['m_label'] < 127]\n",
    "pd.set_option('display.max_columns', None)\n",
    "\n",
    "#use .values to transform df into array\n",
    "#Xs which is a #samples x 20 x 20 array containing the pixel values, \n",
    "# and Ys which is a #samples x 1 array containing the ascii vales for each character\n",
    "\n",
    "Xs_raw = df.iloc[:,12:].values\n",
    "Ys_raw = df.loc[:,'m_label'].values\n",
    "print(\"max: \", Ys_raw.max())\n",
    "print(\"min: \", Ys_raw.min())\n",
    "\n",
    "xs_norm = Xs_raw/256.0\n",
    "\n",
    "\n",
    "print( \"norm: \", xs_norm[0,: 10] )\n",
    "print (\"raw : \", Xs_raw[0,: 10] )\n",
    "\n"
   ]
  },
  {
   "cell_type": "markdown",
   "metadata": {},
   "source": [
    "Compile and train your network like we did in class. You'll probably have to use the np.reshape() function on your data to make PyTorch happy. I reshaped my X values like np.reshape(Xs, (-1, 1, 20, 20)) to get them in the right format."
   ]
  },
  {
   "cell_type": "code",
   "execution_count": 146,
   "metadata": {},
   "outputs": [
    {
     "name": "stdout",
     "output_type": "stream",
     "text": [
      "to ascii 45 -\n",
      "to indx:  35\n"
     ]
    },
    {
     "data": {
      "text/plain": [
       "<matplotlib.image.AxesImage at 0x288728ca0>"
      ]
     },
     "execution_count": 146,
     "metadata": {},
     "output_type": "execute_result"
    },
    {
     "data": {
      "image/png": "[encoded data removed]",
      "text/plain": [
       "<Figure size 432x288 with 1 Axes>"
      ]
     },
     "metadata": {
      "needs_background": "light"
     },
     "output_type": "display_data"
    }
   ],
   "source": [
    "Xs = np.reshape(xs_norm, (-1, 1, 20, 20))\n",
    "# print (len(Xs))\n",
    "# print ((xs_norm.shape))\n",
    "# print ( Xs.shape )\n",
    "\n",
    "keys, indices = np.unique(Ys_raw, return_index=True)\n",
    "    \n",
    "#real to dictionary, dictionary to real\n",
    "iToA= dict(zip(indices, keys))\n",
    "#index to Ascii\n",
    "aToI = dict(zip(keys, indices))\n",
    "#Ascii to index\n",
    "\n",
    "indx = 35\n",
    "ascii_val = iToA[ indx ]\n",
    "indx_val = aToI[ ascii_val ]\n",
    "print(\"to ascii\", ascii_val, chr(ascii_val) )\n",
    "print(\"to indx: \", indx_val )\n",
    "\n",
    "img = Xs[ indx ]\n",
    "img = img.reshape(20,20)\n",
    "plt.imshow( img, cmap=\"gray\", interpolation=\"none\" )\n",
    "\n",
    "\n"
   ]
  },
  {
   "cell_type": "code",
   "execution_count": 147,
   "metadata": {},
   "outputs": [],
   "source": [
    "Ys = np.zeros(len(Ys_raw), dtype=int)\n",
    "for i in range(len(Ys_raw)):\n",
    "   Ys[i] = aToI[Ys_raw[i]]\n",
    "\n",
    "\n",
    "# Ys = torch.from_numpy(Ys)\n",
    "\n",
    "# print(Ys)\n",
    "# print(type(Ys))\n",
    "# print(len(Ys))\n",
    "\n",
    "# print( \"max\", max(Ys) )\n",
    "# print( \"min\", min(Ys) )\n",
    "\n",
    "# count = 0\n",
    "\n",
    "# for y in Ys:\n",
    "#    if y == 35:\n",
    "#       count += 1\n",
    "# print(\"count:\", count)"
   ]
  },
  {
   "cell_type": "code",
   "execution_count": 148,
   "metadata": {},
   "outputs": [
    {
     "name": "stdout",
     "output_type": "stream",
     "text": [
      "to ascii 45 -\n",
      "to indx:  35\n"
     ]
    },
    {
     "data": {
      "text/plain": [
       "<matplotlib.image.AxesImage at 0x28fb7e160>"
      ]
     },
     "execution_count": 148,
     "metadata": {},
     "output_type": "execute_result"
    },
    {
     "data": {
      "image/png": "[encoded data removed]",
      "text/plain": [
       "<Figure size 432x288 with 1 Axes>"
      ]
     },
     "metadata": {
      "needs_background": "light"
     },
     "output_type": "display_data"
    }
   ],
   "source": [
    "from sklearn.model_selection import train_test_split\n",
    "from torch.utils.data import Subset\n",
    "from torch.utils.data import TensorDataset, DataLoader\n",
    "\n",
    "train_data = []\n",
    "for i in range(len(Xs)):\n",
    "    train_data.append([Xs[i], Ys[i]])\n",
    "\n",
    "#my_train, my_test = train_test_split(train_data, test_size=.25)\n",
    "\n",
    "#xTrain, xTest, yTrain, yTest = train_test_split(Xs, Ys, test_size=.25)\n",
    "\n",
    "xTrain = Xs[:int(len(Xs)*3/4)]\n",
    "xTest = Xs[int(len(Xs)*3/4):]\n",
    "yTrain = Ys[:int(len(Xs)*3/4)]\n",
    "yTest = Ys[int(len(Xs)*3/4):]\n",
    "\n",
    "Xs_set = torch.from_numpy(xTrain).to(torch.float)\n",
    "Ys_set = torch.from_numpy(yTrain)\n",
    "\n",
    "XT_set = torch.from_numpy(xTest).to(torch.float)\n",
    "YT_set = torch.from_numpy(yTest)\n",
    "\n",
    "my_train = TensorDataset(Xs_set, Ys_set) # create your datset\n",
    "my_test = TensorDataset(XT_set, YT_set)\n",
    "\n",
    "# b_my_train = TensorDataset(Xs_set, Ys_set)\n",
    "# print( b_my_train[0][0].shape) # create your datset\n",
    "# b_my_test = TensorDataset(Xs_set, Ys_set)\n",
    "\n",
    "indx = 35\n",
    "\n",
    "# print(\"index is: \", Ys_set[indx])\n",
    "ascii_val = iToA[ indx ]\n",
    "indx_val = aToI[ ascii_val ]\n",
    "print(\"to ascii\", ascii_val, chr(ascii_val) )\n",
    "print(\"to indx: \", indx_val )\n",
    "\n",
    "img = Xs_set[aToI[ ascii_val ]]\n",
    "img = img.reshape(20,20)\n",
    "plt.imshow( img, cmap=\"gray\", interpolation=\"none\" )"
   ]
  },
  {
   "cell_type": "code",
   "execution_count": 149,
   "metadata": {},
   "outputs": [],
   "source": [
    "class Net3(nn.Module):\n",
    "    def __init__(self):\n",
    "        super(Net3, self).__init__()\n",
    "        c1Out = 6 # convolution layer 1 will output 6 \"images\": one for each filter it trains\n",
    "        c2Out = 16 # similarly for the 2nd convolution layer\n",
    "        self.conv1 = nn.Conv2d( 1, c1Out, 3 ) # 1-D input, c1Out outputs, filter size 3x3 pixels\n",
    "        \n",
    "        # (28-2) x (28 -2) x c1Out outputs  # \"-2\" because 3x3 mask loses the 1st/last row/column\n",
    "        \n",
    "        self.pool = nn.MaxPool2d( 2, 2 ) # down sample 2x2 blocks to 1 value\n",
    "        \n",
    "        # 13*13*c1Out\n",
    "        \n",
    "        self.conv2 = nn.Conv2d( c1Out, c2Out, 3 ) # Inputs comes from conv1, specify our #outputs, use 3x3 blocks again\n",
    "        \n",
    "        # (13-2)*(13 -2)*c2Out\n",
    "        # pool again\n",
    "        # (11/2)*(11/2)*c2Out = 5x5 x c2Out\n",
    "        \n",
    "        #this is tricky.  The convolutions each shave 1 pixel off around the border, and then the\n",
    "        #max pools reduce the number of pixels by 4\n",
    "        self.pooledOutputSize = c2Out * 5 * 5 # 16 outputs per image whose size has been reduced\n",
    "        \n",
    "        # ******* Ax + b ([weight x input] + bias) since it’s just entirely linear, with no activation function. *****\n",
    "        #All we're doing is just defining values for some layers, we're calling them fc1, fc2...etc, but you could call \n",
    "        # them whatever you wanted. The fc just stands for fully connected. Fully connected refers to the point that \n",
    "        # every neuron in this layer is going to be fully connected to attaching neurons. Nothing fancy going on here! \n",
    "        # Recall, each \"connection\" comes with weights and possibly biases, so each connection is a \"parameter\" for \n",
    "        # the neural network to play with.\n",
    "        #In our case, we have 4 layers. Each of our nn.Linear layers expects the first parameter to be the input size, \n",
    "        # and the 2nd parameter is the output size.\n",
    "        #So, our first layer takes in 28x28, because our images are 28x28 images of hand-drawn digits.\n",
    "        # A basic neural network is going to expect to have a flattened array, so not a 28x28, but instead a 1x784.\n",
    "        #self.fc1 = nn.Linear( self.pooledOutputSize, 120 )\n",
    "        \n",
    "        #144 is the pooling layer number of nodes\n",
    "        self.fc1 = nn.Linear( 144, 120 )\n",
    "        self.fc2 = nn.Linear( 120, 84 )\n",
    "        self.fc3 = nn.Linear( 84, len(Ys) ) # length of outputs, shouldn't be hardcoded\n",
    "\n",
    "    ################################################################################\n",
    "    # Take an image (or images) and run it through all stages of the net:\n",
    "    #    \n",
    "    def forward( self, x ): # \"batch\" of images\n",
    "        # x is 4D tensor:  (batch size, width, height, #channels (1, grayscale image))\n",
    "        # after conv1:  (batch size, width adjusted, height adjusted, conv1 # outputs)\n",
    "        # after max pool: (batch size, width/2, height/2, conv1 # outputs)\n",
    "        # print (\"the type is: \", type(x))\n",
    "        # print(x.shape) # During creation / debugging, getting the shape of layers correct is challenging... so display them.\n",
    "        #x = F.relu(self.conv1(x)\n",
    "        x = self.conv1(x)\n",
    "        #print(x.shape)\n",
    "        x = F.relu(x)\n",
    "        #print(x.shape)\n",
    "        x = self.pool(x)\n",
    "       # print(x.shape)\n",
    "\n",
    "        # Split into 2 lines above\n",
    "        #x = self.pool(F.relu(self.conv1(x)))  #apply convolution filter, then run it through relu activation function\n",
    "        x = self.pool(F.relu(self.conv2(x))) #ditto\n",
    "        #print(x.shape) #uncomment to see the size of this layer.  It helped me figure out what pooledOutputSize shoudl be\n",
    "\n",
    "        # Flatten: turn the 5x5xc2Out array into a single 1xN array.  The dense layers expect a 1D thing\n",
    "        x = x.view(-1, self.num_flat_features(x))\n",
    "        #print(x.shape)\n",
    "        # x = x.view(x.shape[0], -1)  #equivalent ways of reshaping the data to be 1D\n",
    "        # x = x.view(batch_size( x.shape[0]) , -1)\n",
    "        x = F.relu(self.fc1(x)) #apply dense layer 1\n",
    "        x = F.relu(self.fc2(x)) #and dense layer 2, using ReLU activation\n",
    "        x = self.fc3(x) #final dense layer.  No activation function on this\n",
    "        # print (\"x shape: \",  x.shape)\n",
    "        return x\n",
    "    \n",
    "    #compute the output size after our convolution layers\n",
    "    def num_flat_features(self, x):\n",
    "        size = x.size()[1:]  # all dimensions except the batch dimension\n",
    "        num_features = 1\n",
    "        for s in size:\n",
    "            num_features *= s\n",
    "        return num_features\n",
    "\n",
    "\n",
    "net3 = Net3()"
   ]
  },
  {
   "cell_type": "code",
   "execution_count": 150,
   "metadata": {},
   "outputs": [],
   "source": [
    "def train( model, epochs ): # One epoch uses the entire training set (one batch at a time) - 60,000 images in this case\n",
    "    \n",
    "    criterion = nn.CrossEntropyLoss() # this is a way of measuring error (loss) for classification that takes the\n",
    "                                      # \"confidence\" of a prediction into account.  High confidence, correct predictions are low cost, \n",
    "                                      # high confidence, wrong predictions are high cost, medium confidence predictions have cost\n",
    "\n",
    "    # use the ADAM optimizer to find the best weights\n",
    "    optimizer = optim.Adam( model.parameters(), lr= 1e-4 ) \n",
    "    \n",
    "    #this loads data and gets it in the right format for us\n",
    "    trainloader = torch.utils.data.DataLoader( \n",
    "        my_train, \n",
    "        batch_size=8,\n",
    "        shuffle=False, \n",
    "        num_workers=0,\n",
    "        collate_fn=None,\n",
    "        pin_memory=False )\n",
    "\n",
    "    #print( \"my data is: \", my_train)\n",
    "\n",
    "    # print(\"here:\", max(my_train.tensors[1]))\n",
    "    # print(\"here:\", min(my_train.tensors[1]))\n",
    "\n",
    "    for epoch in range( epochs ): # loop over the dataset multiple times\n",
    "\n",
    "        running_loss = 0.0\n",
    "        for i, data in enumerate( trainloader, 0 ):\n",
    "            # get the inputs; data is a list of [inputs, labels]\n",
    "\n",
    "            inputs, labels = data\n",
    "            # zero the parameter gradients\n",
    "            optimizer.zero_grad()\n",
    "\n",
    "            # forward + backward + optimize\n",
    "            \n",
    "            #print(\"shape:\", inputs.shape)\n",
    "            outputs = model(inputs) #predict the output with some training data\n",
    "            # print(\"These are my labels: \" , labels)\n",
    "            # print(outputs.shape)\n",
    "            loss = criterion(outputs, labels) #see how well we did\n",
    "\n",
    "            loss.backward() #see how to change the weights to do better\n",
    "            optimizer.step() #and actually change the weights\n",
    "\n",
    "            # print statistics\n",
    "            running_loss += loss.item()\n",
    "            if i % 20 == 19:    # print every 2000 mini-batches\n",
    "                # print('[%d, %5d] loss: %.3f' %\n",
    "                      #(epoch + 1, i + 1, running_loss / 20))\n",
    "                running_loss = 0.0\n",
    "\n",
    "    print('Finished Training')\n",
    "\n",
    "def evaluate( model ):  \n",
    "    #load some test data\n",
    "    testloader = torch.utils.data.DataLoader( \n",
    "        my_test, \n",
    "        batch_size=8,\n",
    "        shuffle=False,\n",
    "        num_workers=0,\n",
    "        collate_fn=None,\n",
    "        pin_memory=False )\n",
    "    \n",
    "    correct = 0\n",
    "    total = 0\n",
    "\n",
    "    with torch.no_grad(): # <- Since we are not training, the model does not need to calculate gradients\n",
    "        for data in testloader:\n",
    "            images, labels = data\n",
    "            outputs = model( images )\n",
    "            _, predicted = torch.max(outputs.data, 1)\n",
    "            #print(\"predict:\", predicted)\n",
    "            total += labels.size(0)\n",
    "            correct += (predicted == labels).sum().item()\n",
    "\n",
    "    # Just do a coarse evaluation... how many did we predict correcly?\n",
    "    print( 'Accuracy of the network on the 10000 test images: %d %%' % ( 100 * correct / total) )\n",
    "    "
   ]
  },
  {
   "cell_type": "code",
   "execution_count": 151,
   "metadata": {},
   "outputs": [
    {
     "name": "stdout",
     "output_type": "stream",
     "text": [
      "Training...\n",
      "Finished Training\n",
      "Evaluating...\n",
      "Accuracy of the network on the 10000 test images: 58 %\n"
     ]
    }
   ],
   "source": [
    "print( \"Training...\" )\n",
    "train( net3, 50 )\n",
    "\n",
    "print( \"Evaluating...\" )\n",
    "evaluate( net3 )"
   ]
  },
  {
   "cell_type": "code",
   "execution_count": 152,
   "metadata": {},
   "outputs": [
    {
     "name": "stdout",
     "output_type": "stream",
     "text": [
      "tensor([5])\n",
      "torch.Size([20, 20])\n",
      "tensor([7])\n",
      "torch.Size([20, 20])\n",
      "tensor([7])\n",
      "torch.Size([20, 20])\n",
      "tensor([649])\n",
      "torch.Size([20, 20])\n",
      "tensor([59])\n",
      "torch.Size([20, 20])\n",
      "tensor([6])\n",
      "torch.Size([20, 20])\n",
      "tensor([280])\n",
      "torch.Size([20, 20])\n",
      "tensor([578])\n",
      "torch.Size([20, 20])\n"
     ]
    },
    {
     "data": {
      "image/png": "[encoded data removed]",
      "text/plain": [
       "<Figure size 1440x1800 with 8 Axes>"
      ]
     },
     "metadata": {
      "needs_background": "light"
     },
     "output_type": "display_data"
    }
   ],
   "source": [
    "def drawComparisonsCNN(model):\n",
    "   test_loader = torch.utils.data.DataLoader(my_test, batch_size=1, shuffle=False, num_workers=0)\n",
    "   plt.figure(figsize=(20, 25))\n",
    "   with torch.no_grad():\n",
    "      for i, batch in enumerate(test_loader):\n",
    "         if i >= 8: break\n",
    "         #images = batch[0]\n",
    "         images, labels = batch\n",
    "         #print(images.shape)\n",
    "     \n",
    "         label = model(images)\n",
    "         \n",
    "         for j in range(len(images)):\n",
    "            _, index = ( torch.max(label.data, 1) )\n",
    "            print (index)\n",
    "            print( images[0][j].shape)\n",
    "            ax = plt.subplot(16, 8, i*16 + j + 1)\n",
    "            plt.imshow(images[0][j].reshape((20,20)), cmap=\"Greys\", interpolation=None)\n",
    "            # print (len(label[0]))\n",
    "            # print ((label))\n",
    "            # print (int(label))\n",
    "            plt.title( chr(iToA[int(index)]) )\n",
    "            ax.get_xaxis().set_visible(False)\n",
    "            ax.get_yaxis().set_visible(False)\n",
    "\n",
    "drawComparisonsCNN(net3)"
   ]
  },
  {
   "cell_type": "markdown",
   "metadata": {},
   "source": [
    "STEP 3.4 Trained network tested on two different font sets"
   ]
  },
  {
   "cell_type": "code",
   "execution_count": 153,
   "metadata": {},
   "outputs": [],
   "source": [
    "#read in data from file\n",
    "from soupsieve import select\n",
    "\n",
    "\n",
    "read_gar = pd.read_csv(\"fonts/GARAMOND.csv\")\n",
    "\n",
    "df_Gar = pd.DataFrame( read_gar )\n",
    "df_Gar = df_Gar[df_Gar['m_label'] < 127]\n",
    "pd.set_option('display.max_columns', None)\n",
    "\n",
    "Xs_r = df_Gar.iloc[:,12:].values\n",
    "Ys_r = df_Gar.loc[:,'m_label'].values\n",
    "# print(\"max: \", Ys_r.max())\n",
    "# print(\"min: \", Ys_r.min())\n",
    "\n",
    "xs_norm_Gar = Xs_r/256.0\n",
    "\n",
    "###################################\n",
    "\n",
    "read_cal = pd.read_csv(\"fonts/CALIBRI.csv\")\n",
    "\n",
    "df_calibri = pd.DataFrame( read_cal )\n",
    "df_calibri = df_calibri[df_calibri['m_label'] < 127]\n",
    "pd.set_option('display.max_columns', None)\n",
    "\n",
    "Xs_r2 = df_calibri.iloc[:,12:].values\n",
    "Ys_r2 = df_calibri.loc[:,'m_label'].values\n",
    "# print(\"max: \", Ys_r2.max())\n",
    "# print(\"min: \", Ys_r2.min())\n",
    "\n",
    "xs_norm_calibri = Xs_r2/256.0\n",
    "\n",
    "\n",
    "# print( \"norm: \", xs_norm_calibri[0,: 10] )\n",
    "# print (\"raw : \", Xs_r2[0,: 10] )\n",
    "\n",
    "# print ( len(Xs_r))\n",
    "# print ( len(Ys_r))\n",
    "# print ( len(Xs_r2))\n",
    "# print ( len(Ys_r2))\n"
   ]
  },
  {
   "cell_type": "code",
   "execution_count": 154,
   "metadata": {},
   "outputs": [],
   "source": [
    "Xs1 = np.reshape(xs_norm_Gar, (-1, 1, 20, 20))\n",
    "keys1, indices1 = np.unique(Ys_r, return_index=True)\n",
    "    \n",
    "#real to dictionary, dictionary to real\n",
    "iToA1= dict(zip(indices1, keys1))\n",
    "#index to Ascii\n",
    "aToI1 = dict(zip(keys1, indices1))\n",
    "#Ascii to index\n",
    "\n",
    "# indx1 = 35\n",
    "# ascii_val1 = iToA1[ indx1 ]\n",
    "# indx_val1 = aToI1[ ascii_val1 ]\n",
    "\n",
    "# img1 = Xs1[ indx1 ]\n",
    "# img1 = img1.reshape(20,20)\n",
    "# plt.imshow( img1, cmap=\"gray\", interpolation=\"none\" )\n",
    "\n",
    "####################################\n",
    "Xs2 = np.reshape(xs_norm_calibri, (-1, 1, 20, 20))\n",
    "keys2, indices2 = np.unique(Ys_r2, return_index=True)\n",
    "    \n",
    "#real to dictionary, dictionary to real\n",
    "iToA2= dict(zip(indices2, keys2))\n",
    "#index to Ascii\n",
    "aToI2 = dict(zip(keys2, indices2))\n",
    "#Ascii to index\n",
    "\n",
    "# indx2 = 35\n",
    "# ascii_val2 = iToA2[ indx2 ]\n",
    "# indx_val2 = aToI2[ ascii_val2 ]\n",
    "\n",
    "# img2 = Xs2[ indx2 ]\n",
    "# img2 = img2.reshape(20,20)\n",
    "# plt.imshow( img2, cmap=\"gray\", interpolation=\"none\" )\n",
    "\n"
   ]
  },
  {
   "cell_type": "code",
   "execution_count": 155,
   "metadata": {},
   "outputs": [
    {
     "name": "stdout",
     "output_type": "stream",
     "text": [
      "<class 'numpy.ndarray'>\n",
      "376\n",
      "<class 'numpy.ndarray'>\n",
      "752\n"
     ]
    }
   ],
   "source": [
    "Ys1 = np.zeros(len(Ys_r), dtype=int)\n",
    "for i in range((len(Ys_r))):\n",
    "   Ys1[i] = aToI1[Ys_r[i]]\n",
    "\n",
    "# count = 0\n",
    "\n",
    "# for y1 in Ys1:\n",
    "#    if y1 == 35:\n",
    "#       count += 1\n",
    "\n",
    "\n",
    "print(type(Ys1))\n",
    "print(len(Ys1))\n",
    "\n",
    "#################################\n",
    "\n",
    "Ys2 = np.zeros(len(Ys_r2), dtype=int)\n",
    "for i2 in range(len(Ys_r2)):\n",
    "   Ys2[i2] = aToI2[Ys_r2[i2]]\n",
    "\n",
    "# count2 = 0\n",
    "\n",
    "# for y2 in Ys2:\n",
    "#    if y2 == 35:\n",
    "#       count2 += 1\n",
    "\n",
    "print(type(Ys2))\n",
    "print(len(Ys2))"
   ]
  },
  {
   "cell_type": "code",
   "execution_count": 156,
   "metadata": {},
   "outputs": [],
   "source": [
    "from sklearn.model_selection import train_test_split\n",
    "from torch.utils.data import Subset\n",
    "from torch.utils.data import TensorDataset, DataLoader\n",
    "\n",
    "train_data1 = []\n",
    "for i1 in range(len(Xs1)):\n",
    "    train_data.append([Xs1[i1], Ys1[i1]])\n",
    "\n",
    "Xs_set1 = torch.from_numpy(Xs1).to(torch.float)\n",
    "Ys_set1 = torch.from_numpy(Ys1)\n",
    "\n",
    "my_test1 = TensorDataset(Xs_set1, Ys_set1) # create your datset\n",
    "\n",
    "# indx = 35\n",
    "\n",
    "# print(\"index is: \", Ys_set[indx])\n",
    "# ascii_val = iToA[ indx ]\n",
    "# indx_val = aToI[ ascii_val ]\n",
    "# print(\"to ascii\", ascii_val, chr(ascii_val) )\n",
    "# print(\"to indx: \", indx_val )\n",
    "\n",
    "# img = Xs_set[aToI[ ascii_val ]]\n",
    "# img = img.reshape(20,20)\n",
    "# plt.imshow( img, cmap=\"gray\", interpolation=\"none\" )\n",
    "\n",
    "\n",
    "\n",
    "#######################################\n",
    "\n",
    "Xs_set2 = torch.from_numpy(Xs2).to(torch.float)\n",
    "Ys_set2 = torch.from_numpy(Ys2)\n",
    "\n",
    "my_test2 = TensorDataset(Xs_set2, Ys_set2) # create your datset\n",
    "\n",
    "# indx2 = 35\n",
    "\n",
    "# print(\"index is: \", Ys_set2[indx2])\n",
    "# ascii_val2 = iToA2[ indx2 ] \n",
    "# indx_val2 = aToI2[ ascii_val2 ]\n",
    "# print(\"to ascii\", ascii_val2, chr(ascii_val2) )\n",
    "# print(\"to indx: \", indx_val2 )\n",
    "\n",
    "# img2 = Xs_set2[aToI2[ ascii_val2 ]]\n",
    "# img2 = img2.reshape(20,20)\n",
    "# plt.imshow( img2, cmap=\"gray\", interpolation=\"none\" )"
   ]
  },
  {
   "cell_type": "code",
   "execution_count": 157,
   "metadata": {},
   "outputs": [],
   "source": [
    "def evaluate( model, test_data ):  \n",
    "    #load some test data\n",
    "    testloader = torch.utils.data.DataLoader( \n",
    "        test_data, \n",
    "        batch_size=8,\n",
    "        shuffle=False,\n",
    "        num_workers=0,\n",
    "        collate_fn=None,\n",
    "        pin_memory=False )\n",
    "    \n",
    "    correct = 0\n",
    "    total = 0\n",
    "\n",
    "    with torch.no_grad(): # <- Since we are not training, the model does not need to calculate gradients\n",
    "        for data in testloader:\n",
    "            images, labels = data\n",
    "            outputs = model( images )\n",
    "            _, predicted = torch.max(outputs.data, 1)\n",
    "            #print(\"predict:\", predicted)\n",
    "            total += labels.size(0)\n",
    "            correct += (predicted == labels).sum().item()\n",
    "\n",
    "    # Just do a coarse evaluation... how many did we predict correcly?\n",
    "    print( 'Accuracy of the network on the 10000 test images: %d %%' % ( 100 * correct / total) )"
   ]
  },
  {
   "cell_type": "code",
   "execution_count": 158,
   "metadata": {},
   "outputs": [
    {
     "name": "stdout",
     "output_type": "stream",
     "text": [
      "Evaluating...\n",
      "Accuracy of the network on the 10000 test images: 30 %\n"
     ]
    }
   ],
   "source": [
    "print( \"Evaluating...\" )\n",
    "evaluate( net, my_test1 )\n",
    "\n"
   ]
  },
  {
   "cell_type": "code",
   "execution_count": 159,
   "metadata": {},
   "outputs": [
    {
     "name": "stdout",
     "output_type": "stream",
     "text": [
      "Evaluating...\n",
      "Accuracy of the network on the 10000 test images: 64 %\n"
     ]
    }
   ],
   "source": [
    "print( \"Evaluating...\" )\n",
    "evaluate( net, my_test2 )"
   ]
  },
  {
   "cell_type": "code",
   "execution_count": 160,
   "metadata": {},
   "outputs": [
    {
     "data": {
      "image/png": "[encoded data removed]",
      "text/plain": [
       "<Figure size 1440x1800 with 8 Axes>"
      ]
     },
     "metadata": {
      "needs_background": "light"
     },
     "output_type": "display_data"
    }
   ],
   "source": [
    "def drawComparisonsCNN(model):\n",
    "   test_loader = torch.utils.data.DataLoader(my_test1, batch_size=1, shuffle=False, num_workers=0)\n",
    "   plt.figure(figsize=(20, 25))\n",
    "   with torch.no_grad():\n",
    "      for i, batch in enumerate(test_loader):\n",
    "         if i >= 8: break\n",
    "         #images = batch[0]\n",
    "         images, labels = batch\n",
    "         #print(images.shape)\n",
    "     \n",
    "         label = model(images)\n",
    "         \n",
    "         for j in range(len(images)):\n",
    "            _, index = ( torch.max(label.data, 1) )\n",
    "            # print (index)\n",
    "            # print( images[0][j].shape)\n",
    "            ax = plt.subplot(16, 8, i*16 + j + 1)\n",
    "            plt.imshow(images[0][j].reshape((20,20)), cmap=\"Greys\", interpolation=None)\n",
    "            # print (len(label[0]))\n",
    "            # print ((label))\n",
    "            # print (int(label))\n",
    "            plt.title( chr(iToA1[int(index)]) )\n",
    "            ax.get_xaxis().set_visible(False)\n",
    "            ax.get_yaxis().set_visible(False)\n",
    "\n",
    "drawComparisonsCNN(net)"
   ]
  },
  {
   "cell_type": "code",
   "execution_count": 161,
   "metadata": {},
   "outputs": [
    {
     "data": {
      "image/png": "[encoded data removed]",
      "text/plain": [
       "<Figure size 1440x1800 with 8 Axes>"
      ]
     },
     "metadata": {
      "needs_background": "light"
     },
     "output_type": "display_data"
    }
   ],
   "source": [
    "def drawComparisonsCNN(model):\n",
    "   test_loader = torch.utils.data.DataLoader(my_test2, batch_size=1, shuffle=False, num_workers=0)\n",
    "   plt.figure(figsize=(20, 25))\n",
    "   with torch.no_grad():\n",
    "      for i, batch in enumerate(test_loader):\n",
    "         if i >= 8: break\n",
    "         #images = batch[0]\n",
    "         images, labels = batch\n",
    "         #print(images.shape)\n",
    "     \n",
    "         label = model(images)\n",
    "         \n",
    "         for j in range(len(images)):\n",
    "            _, index = ( torch.max(label.data, 1) )\n",
    "            # print (index)\n",
    "            # print( images[0][j].shape)\n",
    "            ax = plt.subplot(16, 8, i*16 + j + 1)\n",
    "            plt.imshow(images[0][j].reshape((20,20)), cmap=\"Greys\", interpolation=None)\n",
    "            # print (len(label[0]))\n",
    "            # print ((label))\n",
    "            # print (int(label))\n",
    "            plt.title( chr(iToA2[int(index)]) )\n",
    "            ax.get_xaxis().set_visible(False)\n",
    "            ax.get_yaxis().set_visible(False)\n",
    "\n",
    "drawComparisonsCNN(net)"
   ]
  },
  {
   "cell_type": "code",
   "execution_count": 192,
   "metadata": {},
   "outputs": [
    {
     "name": "stdout",
     "output_type": "stream",
     "text": [
      "max:  126\n",
      "min:  33\n",
      "max:  126\n",
      "min:  33\n",
      "norm:  [0.00390625 0.00390625 0.00390625 0.55078125 0.99609375 0.99609375\n",
      " 0.99609375 0.5859375  0.00390625 0.00390625]\n",
      "raw :  [  1   1   1 141 255 255 255 150   1   1]\n",
      "376\n",
      "376\n",
      "752\n",
      "752\n"
     ]
    }
   ],
   "source": [
    "#read in data from file\n",
    "from soupsieve import select\n",
    "\n",
    "\n",
    "read_gar = pd.read_csv(\"fonts/GARAMOND.csv\")\n",
    "\n",
    "df_Gar = pd.DataFrame( read_gar )\n",
    "df_Gar = df_Gar[df_Gar['m_label'] < 127]\n",
    "pd.set_option('display.max_columns', None)\n",
    "\n",
    "Xs_r = df_Gar.iloc[:,12:].values\n",
    "Ys_r = df_Gar.loc[:,'m_label'].values\n",
    "print(\"max: \", Ys_r.max())\n",
    "print(\"min: \", Ys_r.min())\n",
    "\n",
    "# xs_norm_Gar = Xs_r/256.0\n",
    "\n",
    "###################################\n",
    "\n",
    "read_cal = pd.read_csv(\"fonts/CALIBRI.csv\")\n",
    "\n",
    "df_calibri = pd.DataFrame( read_cal )\n",
    "df_calibri = df_calibri[df_calibri['m_label'] < 127]\n",
    "pd.set_option('display.max_columns', None)\n",
    "\n",
    "Xs_r2 = df_calibri.iloc[:,12:].values\n",
    "Ys_r2 = df_calibri.loc[:,'m_label'].values\n",
    "print(\"max: \", Ys_r2.max())\n",
    "print(\"min: \", Ys_r2.min())\n",
    "\n",
    "# xs_norm_calibri = Xs_r2/256.0\n",
    "\n",
    "\n",
    "print( \"norm: \", xs_norm_calibri[0,: 10] )\n",
    "print (\"raw : \", Xs_r2[0,: 10] )\n",
    "\n",
    "print ( len(Xs_r))\n",
    "print ( len(Ys_r))\n",
    "print ( len(Xs_r2))\n",
    "print ( len(Ys_r2))\n",
    "\n",
    "XsCom = np.concatenate( (Xs_r, Xs_r2), axis=0 )\n",
    "YsCom = np.concatenate( (Ys_r, Ys_r2), axis=0)\n",
    "\n"
   ]
  },
  {
   "cell_type": "code",
   "execution_count": 193,
   "metadata": {},
   "outputs": [
    {
     "name": "stdout",
     "output_type": "stream",
     "text": [
      "(1128, 1, 20, 20)\n"
     ]
    }
   ],
   "source": [
    "XsC = np.reshape(XsCom, (-1, 1, 20, 20))\n",
    "keysC, indicesC = np.unique(YsCom, return_index=True)\n",
    "    \n",
    "#real to dictionary, dictionary to real\n",
    "iToAC= dict(zip(indicesC, keysC))\n",
    "#index to Ascii\n",
    "aToIC = dict(zip(keysC, indicesC))\n",
    "\n",
    "print (XsC.shape)"
   ]
  },
  {
   "cell_type": "code",
   "execution_count": 194,
   "metadata": {},
   "outputs": [
    {
     "name": "stdout",
     "output_type": "stream",
     "text": [
      "<class 'numpy.ndarray'>\n",
      "1128\n",
      "<class 'numpy.ndarray'>\n",
      "1128\n"
     ]
    }
   ],
   "source": [
    "YsC = np.zeros(len(YsCom), dtype=int)\n",
    "for i in range((len(YsCom))):\n",
    "   YsC[i] = aToIC[YsCom[i]]\n",
    "\n",
    "\n",
    "print(type(YsC))\n",
    "print(len(YsC))\n",
    "print(type(XsC))\n",
    "print(len(XsC))"
   ]
  },
  {
   "cell_type": "code",
   "execution_count": 195,
   "metadata": {},
   "outputs": [
    {
     "name": "stdout",
     "output_type": "stream",
     "text": [
      "0 in new index is ascii: 126 (~)\n"
     ]
    },
    {
     "data": {
      "image/png": "[encoded data removed]",
      "text/plain": [
       "<Figure size 432x288 with 1 Axes>"
      ]
     },
     "metadata": {
      "needs_background": "light"
     },
     "output_type": "display_data"
    }
   ],
   "source": [
    "def plot_leter(X_vals, Y_vals, index):\n",
    "    indx = Y_vals[index]\n",
    "\n",
    "    print(\"%d in new index is ascii: %d (%c)\" % (indx, iToAC[indx], chr( iToAC[indx] ) ) )\n",
    "    img = X_vals[index] #.view((20,20))\n",
    "\n",
    "    img = img.reshape(20,20)\n",
    "    plt.imshow( img, cmap=\"gray\", interpolation=\"none\" )\n",
    "\n",
    "plot_leter(XsC, YsC, 0)\n"
   ]
  },
  {
   "cell_type": "code",
   "execution_count": 166,
   "metadata": {},
   "outputs": [
    {
     "name": "stdout",
     "output_type": "stream",
     "text": [
      "90 in new index is ascii: 36 ($)\n"
     ]
    },
    {
     "data": {
      "image/png": "[encoded data removed]",
      "text/plain": [
       "<Figure size 432x288 with 1 Axes>"
      ]
     },
     "metadata": {
      "needs_background": "light"
     },
     "output_type": "display_data"
    }
   ],
   "source": [
    "plot_leter(XsC, YsC, 90)"
   ]
  },
  {
   "cell_type": "code",
   "execution_count": 196,
   "metadata": {},
   "outputs": [],
   "source": [
    "def shuffle_sets( inx, iny, i, j ):\n",
    "    ox = inx.copy()\n",
    "    oy = iny.copy()\n",
    "\n",
    "    val = len(inx)\n",
    "\n",
    "    ox[j] = inx[i]\n",
    "    oy[j] = iny[i]\n",
    "        \n",
    "    ox[i] = inx[j]\n",
    "    oy[i] = iny[j]\n",
    "\n",
    "    return ox, oy\n",
    "\n",
    "\n",
    "XsCombo, YsCombo = shuffle_sets( XsC, YsC, 0, 90 )\n",
    "\n",
    "# print (\"first shuffle \", len(XsCombo))\n",
    "# print (\"first shuffle \", len(YsCombo))\n",
    "\n",
    "for i in range( 0, len(XsCombo)):\n",
    "    w = np.random.randint(0,len(XsCombo))\n",
    "    z = np.random.randint(0,len(XsCombo))\n",
    "\n",
    "    XsCombo, YsCombo = shuffle_sets(XsCombo, YsCombo, w, z)\n",
    "\n",
    "# plot_leter(XsCombo)\n",
    "\n",
    "XsCombo = XsCombo/256.0\n",
    "\n",
    "# print (\"result \", len(XsCombo))\n",
    "# print (\"result \", len(YsCombo))"
   ]
  },
  {
   "cell_type": "code",
   "execution_count": 168,
   "metadata": {},
   "outputs": [
    {
     "name": "stdout",
     "output_type": "stream",
     "text": [
      "[10 36  2 ... 17 92 60]\n",
      "[  1   1  37 255 255 255  73   1   1   1   1   1   1   1   1   1   1   1\n",
      "   1 146]\n",
      "[0.00390625 0.00390625 0.00390625 0.00390625 0.00390625 0.00390625\n",
      " 0.14453125 0.5546875  0.88671875 0.00390625 0.00390625 0.00390625\n",
      " 0.00390625 0.00390625 0.00390625 0.00390625 0.00390625 0.00390625\n",
      " 0.00390625 0.00390625]\n"
     ]
    }
   ],
   "source": [
    "print(YsCombo)\n",
    "print(XsC[0][0][0])\n",
    "print(XsCombo[0][0][0])"
   ]
  },
  {
   "cell_type": "code",
   "execution_count": 169,
   "metadata": {},
   "outputs": [
    {
     "name": "stdout",
     "output_type": "stream",
     "text": [
      "10 in new index is ascii: 116 (t)\n"
     ]
    },
    {
     "data": {
      "image/png": "[encoded data removed]",
      "text/plain": [
       "<Figure size 432x288 with 1 Axes>"
      ]
     },
     "metadata": {
      "needs_background": "light"
     },
     "output_type": "display_data"
    }
   ],
   "source": [
    "plot_leter(XsCombo, YsCombo, 0)"
   ]
  },
  {
   "cell_type": "code",
   "execution_count": 170,
   "metadata": {},
   "outputs": [
    {
     "name": "stdout",
     "output_type": "stream",
     "text": [
      "23 in new index is ascii: 103 (g)\n"
     ]
    },
    {
     "data": {
      "image/png": "[encoded data removed]",
      "text/plain": [
       "<Figure size 432x288 with 1 Axes>"
      ]
     },
     "metadata": {
      "needs_background": "light"
     },
     "output_type": "display_data"
    }
   ],
   "source": [
    "plot_leter(XsCombo, YsCombo, 90)"
   ]
  },
  {
   "cell_type": "code",
   "execution_count": 197,
   "metadata": {},
   "outputs": [],
   "source": [
    "train_dataC = []\n",
    "for i in range(len(XsC)):\n",
    "    train_data.append([XsC[i], YsC[i]])\n",
    "\n",
    "xTrainC = XsC[:int(len(XsC)*3/4)]\n",
    "xTestC = XsC[int(len(XsC)*3/4):]\n",
    "yTrainC = YsC[:int(len(XsC)*3/4)]\n",
    "yTestC = YsC[int(len(XsC)*3/4):]\n",
    "\n",
    "Xset1 = torch.from_numpy(xTrainC).to(torch.float)\n",
    "Yset1 = torch.from_numpy(yTrainC)\n",
    "\n",
    "Xset2 = torch.from_numpy(xTestC).to(torch.float)\n",
    "Yset2 = torch.from_numpy(yTestC)\n",
    "\n",
    "my_trainC = TensorDataset(Xset1, Yset1) # create your datset\n",
    "my_testC = TensorDataset(Xset2, Yset2) # create your datset\n",
    "\n",
    "\n",
    "# indx = 120\n",
    "\n",
    "# print(\"index is: \", my_trainC[1][indx])\n",
    "# ascii_valC = iToAC[ indx ]\n",
    "# indx_val = aToIC[ ascii_valC ]\n",
    "# print(\"to ascii\", ascii_valC, chr(ascii_valC) )\n",
    "# print(\"to indx: \", indx_val )\n",
    "\n",
    "# img = my_trainC[0][aToIC[ ascii_valC ]]\n",
    "# img = img.reshape(20,20)\n",
    "# plt.imshow( img, cmap=\"gray\", interpolation=\"none\" )"
   ]
  },
  {
   "cell_type": "code",
   "execution_count": 198,
   "metadata": {},
   "outputs": [],
   "source": [
    "class NetBest(nn.Module):\n",
    "    def __init__(self):\n",
    "        super(NetBest, self).__init__()\n",
    "        c1Out = 6 # convolution layer 1 will output 6 \"images\": one for each filter it trains\n",
    "        c2Out = 16 # similarly for the 2nd convolution layer\n",
    "        self.conv1 = nn.Conv2d( 1, c1Out, 3 ) # 1-D input, c1Out outputs, filter size 3x3 pixels\n",
    "        \n",
    "        # (28-2) x (28 -2) x c1Out outputs  # \"-2\" because 3x3 mask loses the 1st/last row/column\n",
    "        \n",
    "        self.pool = nn.MaxPool2d( 2, 2 ) # down sample 2x2 blocks to 1 value\n",
    "        \n",
    "        # 13*13*c1Out\n",
    "        \n",
    "        self.conv2 = nn.Conv2d( c1Out, c2Out, 3 ) # Inputs comes from conv1, specify our #outputs, use 3x3 blocks again\n",
    "        \n",
    "        # (13-2)*(13 -2)*c2Out\n",
    "        # pool again\n",
    "        # (11/2)*(11/2)*c2Out = 5x5 x c2Out\n",
    "        \n",
    "        #this is tricky.  The convolutions each shave 1 pixel off around the border, and then the\n",
    "        #max pools reduce the number of pixels by 4\n",
    "        self.pooledOutputSize = c2Out * 5 * 5 # 16 outputs per image whose size has been reduced\n",
    "        \n",
    "        # ******* Ax + b ([weight x input] + bias) since it’s just entirely linear, with no activation function. *****\n",
    "        #All we're doing is just defining values for some layers, we're calling them fc1, fc2...etc, but you could call \n",
    "        # them whatever you wanted. The fc just stands for fully connected. Fully connected refers to the point that \n",
    "        # every neuron in this layer is going to be fully connected to attaching neurons. Nothing fancy going on here! \n",
    "        # Recall, each \"connection\" comes with weights and possibly biases, so each connection is a \"parameter\" for \n",
    "        # the neural network to play with.\n",
    "        #In our case, we have 4 layers. Each of our nn.Linear layers expects the first parameter to be the input size, \n",
    "        # and the 2nd parameter is the output size.\n",
    "        #So, our first layer takes in 28x28, because our images are 28x28 images of hand-drawn digits.\n",
    "        # A basic neural network is going to expect to have a flattened array, so not a 28x28, but instead a 1x784.\n",
    "        #self.fc1 = nn.Linear( self.pooledOutputSize, 120 )\n",
    "        \n",
    "        #144 is the pooling layer number of nodes\n",
    "        self.fc1 = nn.Linear( 144, 120 )\n",
    "        self.fc2 = nn.Linear( 120, 84 )\n",
    "        self.fc3 = nn.Linear( 84, len(Ys) ) # length of outputs, shouldn't be hardcoded\n",
    "\n",
    "    ################################################################################\n",
    "    # Take an image (or images) and run it through all stages of the net:\n",
    "    #    \n",
    "    def forward( self, x ): # \"batch\" of images\n",
    "        # x is 4D tensor:  (batch size, width, height, #channels (1, grayscale image))\n",
    "        # after conv1:  (batch size, width adjusted, height adjusted, conv1 # outputs)\n",
    "        # after max pool: (batch size, width/2, height/2, conv1 # outputs)\n",
    "        # print (\"the type is: \", type(x))\n",
    "        # print(x.shape) # During creation / debugging, getting the shape of layers correct is challenging... so display them.\n",
    "        #x = F.relu(self.conv1(x)\n",
    "        x = self.conv1(x)\n",
    "        #print(x.shape)\n",
    "        x = F.relu(x)\n",
    "        #print(x.shape)\n",
    "        x = self.pool(x)\n",
    "       # print(x.shape)\n",
    "\n",
    "        # Split into 2 lines above\n",
    "        #x = self.pool(F.relu(self.conv1(x)))  #apply convolution filter, then run it through relu activation function\n",
    "        x = self.pool(F.relu(self.conv2(x))) #ditto\n",
    "        #print(x.shape) #uncomment to see the size of this layer.  It helped me figure out what pooledOutputSize shoudl be\n",
    "\n",
    "        # Flatten: turn the 5x5xc2Out array into a single 1xN array.  The dense layers expect a 1D thing\n",
    "        x = x.view(-1, self.num_flat_features(x))\n",
    "        #print(x.shape)\n",
    "        # x = x.view(x.shape[0], -1)  #equivalent ways of reshaping the data to be 1D\n",
    "        # x = x.view(batch_size( x.shape[0]) , -1)\n",
    "        x = F.relu(self.fc1(x)) #apply dense layer 1\n",
    "        x = F.relu(self.fc2(x)) #and dense layer 2, using ReLU activation\n",
    "        x = self.fc3(x) #final dense layer.  No activation function on this\n",
    "        # print (\"x shape: \",  x.shape)\n",
    "        return x\n",
    "    \n",
    "    #compute the output size after our convolution layers\n",
    "    def num_flat_features(self, x):\n",
    "        size = x.size()[1:]  # all dimensions except the batch dimension\n",
    "        num_features = 1\n",
    "        for s in size:\n",
    "            num_features *= s\n",
    "        return num_features\n",
    "\n",
    "\n",
    "net_best = NetBest()"
   ]
  },
  {
   "cell_type": "code",
   "execution_count": 199,
   "metadata": {},
   "outputs": [],
   "source": [
    "def train( model, epochs ): # One epoch uses the entire training set (one batch at a time) - 60,000 images in this case\n",
    "    \n",
    "    criterion = nn.CrossEntropyLoss() # this is a way of measuring error (loss) for classification that takes the\n",
    "                                      # \"confidence\" of a prediction into account.  High confidence, correct predictions are low cost, \n",
    "                                      # high confidence, wrong predictions are high cost, medium confidence predictions have cost\n",
    "\n",
    "    # use the ADAM optimizer to find the best weights\n",
    "    optimizer = optim.Adam( model.parameters(), lr= 1e-4 ) \n",
    "    \n",
    "    #this loads data and gets it in the right format for us\n",
    "    trainloader = torch.utils.data.DataLoader( \n",
    "        my_trainC, \n",
    "        batch_size=8,\n",
    "        shuffle=False, \n",
    "        num_workers=0,\n",
    "        collate_fn=None,\n",
    "        pin_memory=False )\n",
    "\n",
    "    #print( \"my data is: \", my_train)\n",
    "\n",
    "    # print(\"here:\", max(my_train.tensors[1]))\n",
    "    # print(\"here:\", min(my_train.tensors[1]))\n",
    "\n",
    "    for epoch in range( epochs ): # loop over the dataset multiple times\n",
    "\n",
    "        running_loss = 0.0\n",
    "        for i, data in enumerate( trainloader, 0 ):\n",
    "            # get the inputs; data is a list of [inputs, labels]\n",
    "\n",
    "            inputs, labels = data\n",
    "            # zero the parameter gradients\n",
    "            optimizer.zero_grad()\n",
    "\n",
    "            # forward + backward + optimize\n",
    "            \n",
    "            #print(\"shape:\", inputs.shape)\n",
    "            outputs = model(inputs) #predict the output with some training data\n",
    "            # print(\"These are my labels: \" , labels)\n",
    "            # print(outputs.shape)\n",
    "            loss = criterion(outputs, labels) #see how well we did\n",
    "\n",
    "            loss.backward() #see how to change the weights to do better\n",
    "            optimizer.step() #and actually change the weights\n",
    "\n",
    "            # print statistics\n",
    "            running_loss += loss.item()\n",
    "            if i % 20 == 19:    # print every 2000 mini-batches\n",
    "                # print('[%d, %5d] loss: %.3f' %\n",
    "                      #(epoch + 1, i + 1, running_loss / 20))\n",
    "                running_loss = 0.0\n",
    "\n",
    "    print('Finished Training')\n",
    "\n",
    "def evaluate( model ):  \n",
    "    #load some test data\n",
    "    testloader = torch.utils.data.DataLoader( \n",
    "        my_testC, \n",
    "        batch_size=8,\n",
    "        shuffle=False,\n",
    "        num_workers=0,\n",
    "        collate_fn=None,\n",
    "        pin_memory=False )\n",
    "    \n",
    "    correct = 0\n",
    "    total = 0\n",
    "\n",
    "    with torch.no_grad(): # <- Since we are not training, the model does not need to calculate gradients\n",
    "        for data in testloader:\n",
    "            images, labels = data\n",
    "            outputs = model( images )\n",
    "            _, predicted = torch.max(outputs.data, 1)\n",
    "            #print(\"predict:\", predicted)\n",
    "            total += labels.size(0)\n",
    "            correct += (predicted == labels).sum().item()\n",
    "\n",
    "    # Just do a coarse evaluation... how many did we predict correcly?\n",
    "    print( 'Accuracy of the network on the 10000 test images: %d %%' % ( 100 * correct / total) )\n",
    "    "
   ]
  },
  {
   "cell_type": "code",
   "execution_count": 200,
   "metadata": {},
   "outputs": [
    {
     "name": "stdout",
     "output_type": "stream",
     "text": [
      "Training...\n",
      "Finished Training\n",
      "Evaluating...\n",
      "Accuracy of the network on the 10000 test images: 77 %\n"
     ]
    }
   ],
   "source": [
    "print( \"Training...\" )\n",
    "train( net_best, 50 )\n",
    "\n",
    "print( \"Evaluating...\" )\n",
    "evaluate( net_best )"
   ]
  },
  {
   "cell_type": "code",
   "execution_count": 216,
   "metadata": {},
   "outputs": [
    {
     "name": "stdout",
     "output_type": "stream",
     "text": [
      "tensor([0])\n",
      "torch.Size([1, 20, 20])\n",
      "tensor([1])\n",
      "torch.Size([1, 20, 20])\n",
      "tensor([79])\n",
      "torch.Size([1, 20, 20])\n",
      "tensor([3])\n",
      "torch.Size([1, 20, 20])\n",
      "tensor([4])\n",
      "torch.Size([1, 20, 20])\n",
      "tensor([5])\n",
      "torch.Size([1, 20, 20])\n",
      "tensor([6])\n",
      "torch.Size([1, 20, 20])\n",
      "tensor([7])\n",
      "torch.Size([1, 20, 20])\n"
     ]
    },
    {
     "data": {
      "image/png": "[encoded data removed]",
      "text/plain": [
       "<Figure size 1440x1800 with 8 Axes>"
      ]
     },
     "metadata": {
      "needs_background": "light"
     },
     "output_type": "display_data"
    }
   ],
   "source": [
    "def drawComp(model):\n",
    "   test_loader = torch.utils.data.DataLoader(my_testC, batch_size=1, shuffle=False, num_workers=0)\n",
    "   plt.figure(figsize=(20, 25))\n",
    "   with torch.no_grad():\n",
    "      for i, batch in enumerate(test_loader):\n",
    "         if i >= 8: break\n",
    "         images = batch[0]\n",
    "         # images, labels = batch\n",
    "         #print(images.shape)\n",
    "     \n",
    "         label = model(images)\n",
    "         \n",
    "         for j in range(len(images)):\n",
    "            _, index = ( torch.max(label.data, 1) )\n",
    "            print (index)\n",
    "            print( images[j].shape)\n",
    "            ax = plt.subplot(16, 8, i*16 + j + 1)\n",
    "            plt.imshow(images[j].reshape((20,20)), cmap=\"Greys\", interpolation=None)\n",
    "            # print (len(label[0]))\n",
    "            # print ((label))\n",
    "            # print (int(label))\n",
    "            plt.title( chr(iToAC[int(index)]) )\n",
    "            ax.get_xaxis().set_visible(False)\n",
    "            ax.get_yaxis().set_visible(False)\n",
    "\n",
    "drawComp(net_best)"
   ]
  },
  {
   "cell_type": "markdown",
   "metadata": {},
   "source": [
    "Part 4"
   ]
  },
  {
   "cell_type": "code",
   "execution_count": 217,
   "metadata": {},
   "outputs": [],
   "source": [
    "class CnnNet(nn.Module):\n",
    "   def __init__(self):\n",
    "      super(CnnNet, self).__init__()\n",
    "\n",
    "      self.encodedSize = 32\n",
    "\n",
    "      self.c1Out = 8 # filters from first conv layer\n",
    "      self.c2Out = 8 # filters from 2nd conv layer\n",
    "\n",
    "      #the padding here puts a \"border\" of 0s around the image, so that convolution layers don't \"shrink\" the image\n",
    "\n",
    "      self.cv1 = nn.Conv2d(1, self.c1Out, 3, padding=1) #stick with 3x3 filters\n",
    "      #output is 8x 28x28 images\n",
    "      self.pool = nn.MaxPool2d(2,2)\n",
    "      self.cv2 = nn.Conv2d(self.c1Out, self.c2Out, 3, padding=1)\n",
    "      #reuse pool here\n",
    "\n",
    "      self.downscaledSize = 20//4 #we add padding, so the conv2d layers don't change the size, just the max pools\n",
    "      self.flattenedSize = self.downscaledSize*self.downscaledSize*self.c2Out\n",
    "\n",
    "      self.fc1 = nn.Linear(self.flattenedSize, 64)\n",
    "      self.fc2 = nn.Linear(64, self.encodedSize) #scale down to 64 features\n",
    "\n",
    "      #now we're encoded, so go define decoding pieces\n",
    "\n",
    "      self.fc3 = nn.Linear(self.encodedSize, 64) #scale down to 64 features\n",
    "      self.fc4 = nn.Linear(64, self.flattenedSize)\n",
    "\n",
    "\n",
    "      self.upsample = nn.Upsample(scale_factor=2, mode='bilinear')\n",
    "      # the padding is very important here so we don't have to guess a \"frame\" of pixels around the image\n",
    "      self.cv3 = nn.Conv2d(self.c2Out, self.c1Out, 3, padding=1)\n",
    "      # apply upsample again\n",
    "      self.cv4 = nn.Conv2d(self.c1Out, 1, 3, padding=1)\n",
    "\n",
    "\n",
    "   def compress(self, x):\n",
    "      x = self.cv1(x)\n",
    "      #print(\"shape after cv1\", x.shape)\n",
    "      x = F.relu(self.pool(x))\n",
    "      #print(\"shape after pool1\", x.shape)\n",
    "      x = self.cv2(x)\n",
    "      #print(\"after cv2\", x.shape)\n",
    "      x = F.relu(self.pool(x))\n",
    "      #print(\"after pool 2\", x.shape)\n",
    "      x = x.view(-1, self.flattenedSize)\n",
    "      #print(\"flattened shape\", x.shape)\n",
    "      x = F.relu(self.fc1(x))\n",
    "      x = F.relu(self.fc2(x))\n",
    "      #now we have a low-d representation of our data.  If we were doing compression, we'd store this\n",
    "      return x\n",
    "\n",
    "   def decompress(self, x):\n",
    "      x = F.relu(self.fc3(x))\n",
    "      x = F.relu(self.fc4(x))\n",
    "      #print(x.shape)\n",
    "      x = x.view(-1, self.c2Out, self.downscaledSize, self.downscaledSize)\n",
    "      #print(\"unflattened shape\", x.shape)\n",
    "      x = self.upsample(x)\n",
    "      #print(\"upsample\", x.shape)\n",
    "      x = F.relu(self.cv3(x))\n",
    "      #print(x.shape, \"after cv3\")\n",
    "      x = self.cv4(self.upsample(x))\n",
    "      #print(x.shape, \"after both upsamples\")\n",
    "      return x\n",
    "\n",
    "   def forward(self, x):\n",
    "      x = self.compress(x)\n",
    "      x = self.decompress(x)\n",
    "\n",
    "      return x\n",
    "\n",
    "cnnNet = CnnNet() # treat these as just 28 D vectors"
   ]
  },
  {
   "cell_type": "code",
   "execution_count": 232,
   "metadata": {},
   "outputs": [],
   "source": [
    "#same as we did before except for the reshaping.  CNNs understand 2D images, so we don't want to flatten\n",
    "\n",
    "# mean-squared error loss\n",
    "# this is the normal \"least squares\" error function, divided by the number of data points\n",
    "criterion = nn.MSELoss()\n",
    "\n",
    "def trainCNN(model, epochs):\n",
    "   # create an optimizer object\n",
    "   # Adam optimizer with learning rate 1e-3\n",
    "   optimizer = optim.Adam(model.parameters(), lr=1e-3)\n",
    "\n",
    "   train_loader = torch.utils.data.DataLoader(my_train, batch_size=1, shuffle=True, num_workers=0)\n",
    "\n",
    "   for epoch in range(epochs):\n",
    "      loss = 0\n",
    "\n",
    "      running_loss = 0\n",
    "\n",
    "      for i, data in enumerate(train_loader, 0):\n",
    "\n",
    "         #same as yesterday, except we're not even looking at the labels!\n",
    "         # since we're not using a CNN, we need to \"flatten\" the input images\n",
    "         batch_features = data[0]\n",
    "\n",
    "         # reset the gradients back to zero\n",
    "         # PyTorch accumulates gradients on subsequent backward passes\n",
    "         optimizer.zero_grad()\n",
    "\n",
    "         # compute reconstructions\n",
    "         outputs = model(batch_features)\n",
    "         #print(batch_features.shape)\n",
    "         #print(outputs.shape)\n",
    "         # compute training reconstruction loss\n",
    "         # again, same idea as yesterday, but we're measuring the error slightly differently\n",
    "         # how well does the reconstructed image match the input image?\n",
    "         train_loss = criterion(outputs, batch_features)\n",
    "\n",
    "         # compute accumulated gradients\n",
    "         train_loss.backward()\n",
    "\n",
    "         # perform parameter update based on current gradients\n",
    "         optimizer.step()\n",
    "\n",
    "         # add the mini-batch training loss to epoch loss\n",
    "         loss += train_loss.item()\n",
    "\n",
    "         # print statistics\n",
    "         # running_loss += train_loss.item()\n",
    "         # if i % len(train_loader) == int(len(train_loader)/10):    # print every 2000 mini-batches\n",
    "         #    x = print('[%d, %5d] loss: %.8f' % (epoch + 1, i + 1, running_loss / 20))\n",
    "         #running_loss = 0.0\n",
    "\n",
    "\n",
    "      # compute the epoch training loss\n",
    "      loss = loss / len(train_loader)\n",
    "\n",
    "      # display the epoch training loss\n",
    "      #print(\"epoch : {}/{}, loss = {:.8f}\".format(epoch + 1, epochs, loss))\n",
    "\n",
    "def evaluateCNN(model):\n",
    "   test_loader = torch.utils.data.DataLoader(my_test, batch_size=1, shuffle=True, num_workers=0)\n",
    "   total_loss = 0\n",
    "   with torch.no_grad():\n",
    "      for data in test_loader:\n",
    "         images = data[0]\n",
    "         outputs = model(images)\n",
    "         test_loss = criterion(outputs, images)\n",
    "         total_loss += test_loss.item()\n",
    "\n",
    "   print(\"overall loss: \", total_loss)\n",
    "  "
   ]
  },
  {
   "cell_type": "code",
   "execution_count": 233,
   "metadata": {},
   "outputs": [
    {
     "name": "stdout",
     "output_type": "stream",
     "text": [
      "Train: (50 epochs)\n",
      "Evaluate:\n",
      "overall loss:  9.594546942971647\n"
     ]
    }
   ],
   "source": [
    "epochs = 50\n",
    "\n",
    "print( \"Train: (%d epochs)\" % epochs )\n",
    "trainCNN(cnnNet, epochs)\n",
    "\n",
    "print( \"Evaluate:\" )\n",
    "evaluateCNN(cnnNet)"
   ]
  },
  {
   "cell_type": "code",
   "execution_count": 234,
   "metadata": {},
   "outputs": [
    {
     "data": {
      "image/png": "[encoded data removed]",
      "text/plain": [
       "<Figure size 1440x1800 with 16 Axes>"
      ]
     },
     "metadata": {
      "needs_background": "light"
     },
     "output_type": "display_data"
    }
   ],
   "source": [
    "def drawComparisonsCNN(model):\n",
    "   test_loader = torch.utils.data.DataLoader(my_test, batch_size=1, shuffle=True, num_workers=0)\n",
    "   plt.figure(figsize=(20, 25))\n",
    "   for i, batch in enumerate(test_loader):\n",
    "      if i >= 8: break\n",
    "      images = batch[0]\n",
    "      #print(images.shape)\n",
    "      with torch.no_grad():\n",
    "         reconstructed = model(images)\n",
    "         for j in range(len(images)):\n",
    "            #draw the original image\n",
    "            ax = plt.subplot(16, 8, i*16 + j + 1)\n",
    "            plt.imshow(images[j].reshape((20,20)), cmap=\"Greys\", interpolation=None)\n",
    "            ax.get_xaxis().set_visible(False)\n",
    "            ax.get_yaxis().set_visible(False)\n",
    "\n",
    "            #and the reconstructed version in the next row\n",
    "            ax = plt.subplot(16, 8, i*16 + j + 1 + 8)\n",
    "            plt.imshow(reconstructed[j].reshape((20,20)), cmap=\"Greys\", interpolation=None)\n",
    "            ax.get_xaxis().set_visible(False)\n",
    "            ax.get_yaxis().set_visible(False)\n",
    "\n",
    "drawComparisonsCNN(cnnNet)"
   ]
  }
 ],
 "metadata": {
  "kernelspec": {
   "display_name": "Python 3.9.13 64-bit",
   "language": "python",
   "name": "python3"
  },
  "language_info": {
   "codemirror_mode": {
    "name": "ipython",
    "version": 3
   },
   "file_extension": ".py",
   "mimetype": "text/x-python",
   "name": "python",
   "nbconvert_exporter": "python",
   "pygments_lexer": "ipython3",
   "version": "3.9.13"
  },
  "orig_nbformat": 4,
  "vscode": {
   "interpreter": {
    "hash": "b0fa6594d8f4cbf19f97940f81e996739fb7646882a419484c72d19e05852a7e"
   }
  }
 },
 "nbformat": 4,
 "nbformat_minor": 2
}
